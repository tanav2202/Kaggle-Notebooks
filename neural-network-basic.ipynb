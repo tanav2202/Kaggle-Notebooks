{
 "cells": [
  {
   "cell_type": "code",
   "execution_count": 1,
   "id": "0a1397b0",
   "metadata": {
    "_cell_guid": "b1076dfc-b9ad-4769-8c92-a6c4dae69d19",
    "_uuid": "8f2839f25d086af736a60e9eeb907d3b93b6e0e5",
    "execution": {
     "iopub.execute_input": "2022-07-03T23:34:54.429555Z",
     "iopub.status.busy": "2022-07-03T23:34:54.428690Z",
     "iopub.status.idle": "2022-07-03T23:35:03.881382Z",
     "shell.execute_reply": "2022-07-03T23:35:03.880101Z"
    },
    "papermill": {
     "duration": 9.467094,
     "end_time": "2022-07-03T23:35:03.884643",
     "exception": false,
     "start_time": "2022-07-03T23:34:54.417549",
     "status": "completed"
    },
    "tags": []
   },
   "outputs": [],
   "source": [
    "import numpy as np \n",
    "import pandas as pd \n",
    "import tensorflow as tf"
   ]
  },
  {
   "cell_type": "code",
   "execution_count": 2,
   "id": "235e3ad8",
   "metadata": {
    "execution": {
     "iopub.execute_input": "2022-07-03T23:35:03.902370Z",
     "iopub.status.busy": "2022-07-03T23:35:03.901432Z",
     "iopub.status.idle": "2022-07-03T23:35:03.922665Z",
     "shell.execute_reply": "2022-07-03T23:35:03.921086Z"
    },
    "papermill": {
     "duration": 0.033856,
     "end_time": "2022-07-03T23:35:03.926206",
     "exception": false,
     "start_time": "2022-07-03T23:35:03.892350",
     "status": "completed"
    },
    "tags": []
   },
   "outputs": [],
   "source": [
    "data= pd.read_csv('../input/titanic/train.csv')"
   ]
  },
  {
   "cell_type": "code",
   "execution_count": 3,
   "id": "8c8c0516",
   "metadata": {
    "execution": {
     "iopub.execute_input": "2022-07-03T23:35:03.943994Z",
     "iopub.status.busy": "2022-07-03T23:35:03.943561Z",
     "iopub.status.idle": "2022-07-03T23:35:03.973758Z",
     "shell.execute_reply": "2022-07-03T23:35:03.972107Z"
    },
    "papermill": {
     "duration": 0.042163,
     "end_time": "2022-07-03T23:35:03.976476",
     "exception": false,
     "start_time": "2022-07-03T23:35:03.934313",
     "status": "completed"
    },
    "tags": []
   },
   "outputs": [
    {
     "name": "stdout",
     "output_type": "stream",
     "text": [
      "(891, 12)\n"
     ]
    },
    {
     "data": {
      "text/html": [
       "<div>\n",
       "<style scoped>\n",
       "    .dataframe tbody tr th:only-of-type {\n",
       "        vertical-align: middle;\n",
       "    }\n",
       "\n",
       "    .dataframe tbody tr th {\n",
       "        vertical-align: top;\n",
       "    }\n",
       "\n",
       "    .dataframe thead th {\n",
       "        text-align: right;\n",
       "    }\n",
       "</style>\n",
       "<table border=\"1\" class=\"dataframe\">\n",
       "  <thead>\n",
       "    <tr style=\"text-align: right;\">\n",
       "      <th></th>\n",
       "      <th>PassengerId</th>\n",
       "      <th>Survived</th>\n",
       "      <th>Pclass</th>\n",
       "      <th>Name</th>\n",
       "      <th>Sex</th>\n",
       "      <th>Age</th>\n",
       "      <th>SibSp</th>\n",
       "      <th>Parch</th>\n",
       "      <th>Ticket</th>\n",
       "      <th>Fare</th>\n",
       "      <th>Cabin</th>\n",
       "      <th>Embarked</th>\n",
       "    </tr>\n",
       "  </thead>\n",
       "  <tbody>\n",
       "    <tr>\n",
       "      <th>0</th>\n",
       "      <td>1</td>\n",
       "      <td>0</td>\n",
       "      <td>3</td>\n",
       "      <td>Braund, Mr. Owen Harris</td>\n",
       "      <td>male</td>\n",
       "      <td>22.0</td>\n",
       "      <td>1</td>\n",
       "      <td>0</td>\n",
       "      <td>A/5 21171</td>\n",
       "      <td>7.2500</td>\n",
       "      <td>NaN</td>\n",
       "      <td>S</td>\n",
       "    </tr>\n",
       "    <tr>\n",
       "      <th>1</th>\n",
       "      <td>2</td>\n",
       "      <td>1</td>\n",
       "      <td>1</td>\n",
       "      <td>Cumings, Mrs. John Bradley (Florence Briggs Th...</td>\n",
       "      <td>female</td>\n",
       "      <td>38.0</td>\n",
       "      <td>1</td>\n",
       "      <td>0</td>\n",
       "      <td>PC 17599</td>\n",
       "      <td>71.2833</td>\n",
       "      <td>C85</td>\n",
       "      <td>C</td>\n",
       "    </tr>\n",
       "    <tr>\n",
       "      <th>2</th>\n",
       "      <td>3</td>\n",
       "      <td>1</td>\n",
       "      <td>3</td>\n",
       "      <td>Heikkinen, Miss. Laina</td>\n",
       "      <td>female</td>\n",
       "      <td>26.0</td>\n",
       "      <td>0</td>\n",
       "      <td>0</td>\n",
       "      <td>STON/O2. 3101282</td>\n",
       "      <td>7.9250</td>\n",
       "      <td>NaN</td>\n",
       "      <td>S</td>\n",
       "    </tr>\n",
       "    <tr>\n",
       "      <th>3</th>\n",
       "      <td>4</td>\n",
       "      <td>1</td>\n",
       "      <td>1</td>\n",
       "      <td>Futrelle, Mrs. Jacques Heath (Lily May Peel)</td>\n",
       "      <td>female</td>\n",
       "      <td>35.0</td>\n",
       "      <td>1</td>\n",
       "      <td>0</td>\n",
       "      <td>113803</td>\n",
       "      <td>53.1000</td>\n",
       "      <td>C123</td>\n",
       "      <td>S</td>\n",
       "    </tr>\n",
       "    <tr>\n",
       "      <th>4</th>\n",
       "      <td>5</td>\n",
       "      <td>0</td>\n",
       "      <td>3</td>\n",
       "      <td>Allen, Mr. William Henry</td>\n",
       "      <td>male</td>\n",
       "      <td>35.0</td>\n",
       "      <td>0</td>\n",
       "      <td>0</td>\n",
       "      <td>373450</td>\n",
       "      <td>8.0500</td>\n",
       "      <td>NaN</td>\n",
       "      <td>S</td>\n",
       "    </tr>\n",
       "  </tbody>\n",
       "</table>\n",
       "</div>"
      ],
      "text/plain": [
       "   PassengerId  Survived  Pclass  \\\n",
       "0            1         0       3   \n",
       "1            2         1       1   \n",
       "2            3         1       3   \n",
       "3            4         1       1   \n",
       "4            5         0       3   \n",
       "\n",
       "                                                Name     Sex   Age  SibSp  \\\n",
       "0                            Braund, Mr. Owen Harris    male  22.0      1   \n",
       "1  Cumings, Mrs. John Bradley (Florence Briggs Th...  female  38.0      1   \n",
       "2                             Heikkinen, Miss. Laina  female  26.0      0   \n",
       "3       Futrelle, Mrs. Jacques Heath (Lily May Peel)  female  35.0      1   \n",
       "4                           Allen, Mr. William Henry    male  35.0      0   \n",
       "\n",
       "   Parch            Ticket     Fare Cabin Embarked  \n",
       "0      0         A/5 21171   7.2500   NaN        S  \n",
       "1      0          PC 17599  71.2833   C85        C  \n",
       "2      0  STON/O2. 3101282   7.9250   NaN        S  \n",
       "3      0            113803  53.1000  C123        S  \n",
       "4      0            373450   8.0500   NaN        S  "
      ]
     },
     "execution_count": 3,
     "metadata": {},
     "output_type": "execute_result"
    }
   ],
   "source": [
    "print(data.shape)\n",
    "data.head()"
   ]
  },
  {
   "cell_type": "code",
   "execution_count": 4,
   "id": "3bb81254",
   "metadata": {
    "execution": {
     "iopub.execute_input": "2022-07-03T23:35:03.994046Z",
     "iopub.status.busy": "2022-07-03T23:35:03.993646Z",
     "iopub.status.idle": "2022-07-03T23:35:04.005973Z",
     "shell.execute_reply": "2022-07-03T23:35:04.004868Z"
    },
    "papermill": {
     "duration": 0.024109,
     "end_time": "2022-07-03T23:35:04.008457",
     "exception": false,
     "start_time": "2022-07-03T23:35:03.984348",
     "status": "completed"
    },
    "tags": []
   },
   "outputs": [],
   "source": [
    "data = data[['Survived', 'Pclass', 'Sex', 'Age', 'Fare']]"
   ]
  },
  {
   "cell_type": "code",
   "execution_count": 5,
   "id": "ccec9ac6",
   "metadata": {
    "execution": {
     "iopub.execute_input": "2022-07-03T23:35:04.027301Z",
     "iopub.status.busy": "2022-07-03T23:35:04.026625Z",
     "iopub.status.idle": "2022-07-03T23:35:04.038849Z",
     "shell.execute_reply": "2022-07-03T23:35:04.037072Z"
    },
    "papermill": {
     "duration": 0.026383,
     "end_time": "2022-07-03T23:35:04.042884",
     "exception": false,
     "start_time": "2022-07-03T23:35:04.016501",
     "status": "completed"
    },
    "tags": []
   },
   "outputs": [
    {
     "name": "stdout",
     "output_type": "stream",
     "text": [
      "(714, 5)\n"
     ]
    }
   ],
   "source": [
    "data = data.dropna()\n",
    "print(data.shape)"
   ]
  },
  {
   "cell_type": "code",
   "execution_count": 6,
   "id": "e85aec0e",
   "metadata": {
    "execution": {
     "iopub.execute_input": "2022-07-03T23:35:04.061651Z",
     "iopub.status.busy": "2022-07-03T23:35:04.060912Z",
     "iopub.status.idle": "2022-07-03T23:35:04.069314Z",
     "shell.execute_reply": "2022-07-03T23:35:04.068278Z"
    },
    "papermill": {
     "duration": 0.020543,
     "end_time": "2022-07-03T23:35:04.071996",
     "exception": false,
     "start_time": "2022-07-03T23:35:04.051453",
     "status": "completed"
    },
    "tags": []
   },
   "outputs": [],
   "source": [
    "target = data.pop('Survived')"
   ]
  },
  {
   "cell_type": "code",
   "execution_count": 7,
   "id": "ea967c76",
   "metadata": {
    "execution": {
     "iopub.execute_input": "2022-07-03T23:35:04.091158Z",
     "iopub.status.busy": "2022-07-03T23:35:04.090491Z",
     "iopub.status.idle": "2022-07-03T23:35:04.095110Z",
     "shell.execute_reply": "2022-07-03T23:35:04.094190Z"
    },
    "papermill": {
     "duration": 0.017286,
     "end_time": "2022-07-03T23:35:04.097530",
     "exception": false,
     "start_time": "2022-07-03T23:35:04.080244",
     "status": "completed"
    },
    "tags": []
   },
   "outputs": [],
   "source": [
    "categorical_feature_names = ['Pclass','Sex']\n",
    "numeric_feature_names = ['Fare', 'Age']\n",
    "predicted_feature_name = ['Survived']"
   ]
  },
  {
   "cell_type": "code",
   "execution_count": 8,
   "id": "77b0fb5b",
   "metadata": {
    "execution": {
     "iopub.execute_input": "2022-07-03T23:35:04.115300Z",
     "iopub.status.busy": "2022-07-03T23:35:04.114869Z",
     "iopub.status.idle": "2022-07-03T23:35:05.426460Z",
     "shell.execute_reply": "2022-07-03T23:35:05.425397Z"
    },
    "papermill": {
     "duration": 1.323952,
     "end_time": "2022-07-03T23:35:05.429460",
     "exception": false,
     "start_time": "2022-07-03T23:35:04.105508",
     "status": "completed"
    },
    "tags": []
   },
   "outputs": [],
   "source": [
    "def create_tensor_dict(data, categorical_feature_names):\n",
    "    inputs = {}\n",
    "    for name, column in data.items():\n",
    "      if type(column[0]) == str:\n",
    "        dtype = tf.string\n",
    "      elif (name in categorical_feature_names):\n",
    "        dtype = tf.int64\n",
    "      else:\n",
    "        dtype = tf.float32\n",
    "\n",
    "      inputs[name] = tf.keras.Input(shape=(), name=name, dtype=dtype)\n",
    "    return inputs\n",
    "\n",
    "inputs = create_tensor_dict(data, categorical_feature_names)\n"
   ]
  },
  {
   "cell_type": "code",
   "execution_count": 9,
   "id": "31ade8ec",
   "metadata": {
    "execution": {
     "iopub.execute_input": "2022-07-03T23:35:05.446631Z",
     "iopub.status.busy": "2022-07-03T23:35:05.446204Z",
     "iopub.status.idle": "2022-07-03T23:35:05.452708Z",
     "shell.execute_reply": "2022-07-03T23:35:05.451408Z"
    },
    "papermill": {
     "duration": 0.017919,
     "end_time": "2022-07-03T23:35:05.455157",
     "exception": false,
     "start_time": "2022-07-03T23:35:05.437238",
     "status": "completed"
    },
    "tags": []
   },
   "outputs": [],
   "source": [
    "def stack_dict(inputs, fun=tf.stack):\n",
    "    values = []\n",
    "    for key in sorted(inputs.keys()):\n",
    "      values.append(tf.cast(inputs[key], tf.float32))\n",
    "\n",
    "    return fun(values, axis=-1)"
   ]
  },
  {
   "cell_type": "code",
   "execution_count": 10,
   "id": "e264ab47",
   "metadata": {
    "execution": {
     "iopub.execute_input": "2022-07-03T23:35:05.473025Z",
     "iopub.status.busy": "2022-07-03T23:35:05.472234Z",
     "iopub.status.idle": "2022-07-03T23:35:05.478281Z",
     "shell.execute_reply": "2022-07-03T23:35:05.477471Z"
    },
    "papermill": {
     "duration": 0.017631,
     "end_time": "2022-07-03T23:35:05.480675",
     "exception": false,
     "start_time": "2022-07-03T23:35:05.463044",
     "status": "completed"
    },
    "tags": []
   },
   "outputs": [],
   "source": [
    "def create_normalizer(numeric_feature_names, data):\n",
    "    numeric_features = data[numeric_feature_names]\n",
    "    \n",
    "    normalizer = tf.keras.layers.Normalization(axis=-1)\n",
    "    normalizer.adapt(stack_dict(dict(numeric_features)))  \n",
    "    return normalizer"
   ]
  },
  {
   "cell_type": "code",
   "execution_count": 11,
   "id": "9ff8a550",
   "metadata": {
    "execution": {
     "iopub.execute_input": "2022-07-03T23:35:05.498309Z",
     "iopub.status.busy": "2022-07-03T23:35:05.497500Z",
     "iopub.status.idle": "2022-07-03T23:35:05.503731Z",
     "shell.execute_reply": "2022-07-03T23:35:05.502960Z"
    },
    "papermill": {
     "duration": 0.017815,
     "end_time": "2022-07-03T23:35:05.506121",
     "exception": false,
     "start_time": "2022-07-03T23:35:05.488306",
     "status": "completed"
    },
    "tags": []
   },
   "outputs": [],
   "source": [
    "def normalize_numeric_input(numeric_feature_names, inputs, normalizer):\n",
    "    numeric_inputs = {}\n",
    "    for name in numeric_feature_names:\n",
    "      numeric_inputs[name]=inputs[name]\n",
    "\n",
    "    numeric_inputs = stack_dict(numeric_inputs)\n",
    "    numeric_normalized = normalizer(numeric_inputs) \n",
    "    return numeric_normalized"
   ]
  },
  {
   "cell_type": "code",
   "execution_count": 12,
   "id": "1d2ac81a",
   "metadata": {
    "execution": {
     "iopub.execute_input": "2022-07-03T23:35:05.524007Z",
     "iopub.status.busy": "2022-07-03T23:35:05.523154Z",
     "iopub.status.idle": "2022-07-03T23:35:06.201345Z",
     "shell.execute_reply": "2022-07-03T23:35:06.200106Z"
    },
    "papermill": {
     "duration": 0.690063,
     "end_time": "2022-07-03T23:35:06.203913",
     "exception": false,
     "start_time": "2022-07-03T23:35:05.513850",
     "status": "completed"
    },
    "tags": []
   },
   "outputs": [
    {
     "name": "stderr",
     "output_type": "stream",
     "text": [
      "2022-07-03 23:35:05.731584: I tensorflow/core/common_runtime/process_util.cc:146] Creating new thread pool with default inter op setting: 2. Tune using inter_op_parallelism_threads for best performance.\n",
      "2022-07-03 23:35:05.846150: I tensorflow/compiler/mlir/mlir_graph_optimization_pass.cc:185] None of the MLIR Optimization Passes are enabled (registered 2)\n"
     ]
    },
    {
     "name": "stdout",
     "output_type": "stream",
     "text": [
      "KerasTensor(type_spec=TensorSpec(shape=(None, 2), dtype=tf.float32, name=None), name='normalization/truediv:0', description=\"created by layer 'normalization'\")\n"
     ]
    }
   ],
   "source": [
    "normalizer = create_normalizer(numeric_feature_names, data)\n",
    "numeric_normalized = normalize_numeric_input(numeric_feature_names, inputs, normalizer)\n",
    "print(numeric_normalized)"
   ]
  },
  {
   "cell_type": "code",
   "execution_count": 13,
   "id": "8c8f8958",
   "metadata": {
    "execution": {
     "iopub.execute_input": "2022-07-03T23:35:06.221733Z",
     "iopub.status.busy": "2022-07-03T23:35:06.221296Z",
     "iopub.status.idle": "2022-07-03T23:35:06.226883Z",
     "shell.execute_reply": "2022-07-03T23:35:06.225708Z"
    },
    "papermill": {
     "duration": 0.017175,
     "end_time": "2022-07-03T23:35:06.229152",
     "exception": false,
     "start_time": "2022-07-03T23:35:06.211977",
     "status": "completed"
    },
    "tags": []
   },
   "outputs": [],
   "source": [
    "preprocessed = []\n",
    "preprocessed.append(numeric_normalized)"
   ]
  },
  {
   "cell_type": "code",
   "execution_count": 14,
   "id": "3af14baf",
   "metadata": {
    "execution": {
     "iopub.execute_input": "2022-07-03T23:35:06.247339Z",
     "iopub.status.busy": "2022-07-03T23:35:06.246452Z",
     "iopub.status.idle": "2022-07-03T23:35:06.254706Z",
     "shell.execute_reply": "2022-07-03T23:35:06.253650Z"
    },
    "papermill": {
     "duration": 0.020042,
     "end_time": "2022-07-03T23:35:06.257377",
     "exception": false,
     "start_time": "2022-07-03T23:35:06.237335",
     "status": "completed"
    },
    "tags": []
   },
   "outputs": [],
   "source": [
    "def one_hot_encode_categorical_features(categorical_feature_names, data, inputs):\n",
    "    one_hot = []\n",
    "    for name in categorical_feature_names:\n",
    "      value = sorted(set(data[name]))\n",
    "\n",
    "      if type(value[0]) is str:\n",
    "        lookup = tf.keras.layers.StringLookup(vocabulary=value, output_mode='one_hot')\n",
    "      else:\n",
    "        lookup = tf.keras.layers.IntegerLookup(vocabulary=value, output_mode='one_hot')\n",
    "\n",
    "      x = inputs[name][:, tf.newaxis]\n",
    "      x = lookup(x)\n",
    "      one_hot.append(x)\n",
    "    return one_hot"
   ]
  },
  {
   "cell_type": "code",
   "execution_count": 15,
   "id": "3632f37b",
   "metadata": {
    "execution": {
     "iopub.execute_input": "2022-07-03T23:35:06.275903Z",
     "iopub.status.busy": "2022-07-03T23:35:06.274908Z",
     "iopub.status.idle": "2022-07-03T23:35:06.329271Z",
     "shell.execute_reply": "2022-07-03T23:35:06.328135Z"
    },
    "papermill": {
     "duration": 0.066566,
     "end_time": "2022-07-03T23:35:06.332085",
     "exception": false,
     "start_time": "2022-07-03T23:35:06.265519",
     "status": "completed"
    },
    "tags": []
   },
   "outputs": [],
   "source": [
    "one_hot = one_hot_encode_categorical_features(categorical_feature_names, data, inputs)\n",
    "preprocessed = preprocessed + one_hot\n"
   ]
  },
  {
   "cell_type": "code",
   "execution_count": 16,
   "id": "85d2783e",
   "metadata": {
    "execution": {
     "iopub.execute_input": "2022-07-03T23:35:06.350478Z",
     "iopub.status.busy": "2022-07-03T23:35:06.349679Z",
     "iopub.status.idle": "2022-07-03T23:35:06.361851Z",
     "shell.execute_reply": "2022-07-03T23:35:06.360666Z"
    },
    "papermill": {
     "duration": 0.024463,
     "end_time": "2022-07-03T23:35:06.364572",
     "exception": false,
     "start_time": "2022-07-03T23:35:06.340109",
     "status": "completed"
    },
    "tags": []
   },
   "outputs": [],
   "source": [
    "preprocesssed_result = tf.concat(preprocessed, axis=-1)\n"
   ]
  },
  {
   "cell_type": "code",
   "execution_count": 17,
   "id": "a8ff7529",
   "metadata": {
    "execution": {
     "iopub.execute_input": "2022-07-03T23:35:06.383516Z",
     "iopub.status.busy": "2022-07-03T23:35:06.382141Z",
     "iopub.status.idle": "2022-07-03T23:35:06.394191Z",
     "shell.execute_reply": "2022-07-03T23:35:06.393251Z"
    },
    "papermill": {
     "duration": 0.024283,
     "end_time": "2022-07-03T23:35:06.396799",
     "exception": false,
     "start_time": "2022-07-03T23:35:06.372516",
     "status": "completed"
    },
    "tags": []
   },
   "outputs": [],
   "source": [
    "preprocessor = tf.keras.Model(inputs, preprocesssed_result)"
   ]
  },
  {
   "cell_type": "code",
   "execution_count": 18,
   "id": "e1377733",
   "metadata": {
    "execution": {
     "iopub.execute_input": "2022-07-03T23:35:06.414850Z",
     "iopub.status.busy": "2022-07-03T23:35:06.413867Z",
     "iopub.status.idle": "2022-07-03T23:35:06.460273Z",
     "shell.execute_reply": "2022-07-03T23:35:06.458911Z"
    },
    "papermill": {
     "duration": 0.058098,
     "end_time": "2022-07-03T23:35:06.462795",
     "exception": false,
     "start_time": "2022-07-03T23:35:06.404697",
     "status": "completed"
    },
    "tags": []
   },
   "outputs": [
    {
     "data": {
      "text/plain": [
       "<tf.Tensor: shape=(1, 9), dtype=float32, numpy=\n",
       "array([[-0.5303766, -0.5189777,  0.       ,  0.       ,  0.       ,\n",
       "         1.       ,  0.       ,  0.       ,  1.       ]], dtype=float32)>"
      ]
     },
     "execution_count": 18,
     "metadata": {},
     "output_type": "execute_result"
    }
   ],
   "source": [
    "preprocessor(dict(data.iloc[:1]))"
   ]
  },
  {
   "cell_type": "code",
   "execution_count": 19,
   "id": "559c5262",
   "metadata": {
    "execution": {
     "iopub.execute_input": "2022-07-03T23:35:06.481276Z",
     "iopub.status.busy": "2022-07-03T23:35:06.480474Z",
     "iopub.status.idle": "2022-07-03T23:35:06.493940Z",
     "shell.execute_reply": "2022-07-03T23:35:06.492778Z"
    },
    "papermill": {
     "duration": 0.025832,
     "end_time": "2022-07-03T23:35:06.496625",
     "exception": false,
     "start_time": "2022-07-03T23:35:06.470793",
     "status": "completed"
    },
    "tags": []
   },
   "outputs": [],
   "source": [
    "network = tf.keras.Sequential([\n",
    "  tf.keras.layers.Dense(10, activation='relu'),\n",
    "  tf.keras.layers.Dense(10, activation='relu'),\n",
    "  tf.keras.layers.Dense(1)\n",
    "])"
   ]
  },
  {
   "cell_type": "code",
   "execution_count": 20,
   "id": "5937ac31",
   "metadata": {
    "execution": {
     "iopub.execute_input": "2022-07-03T23:35:06.515139Z",
     "iopub.status.busy": "2022-07-03T23:35:06.514316Z",
     "iopub.status.idle": "2022-07-03T23:35:06.596426Z",
     "shell.execute_reply": "2022-07-03T23:35:06.595435Z"
    },
    "papermill": {
     "duration": 0.094596,
     "end_time": "2022-07-03T23:35:06.599288",
     "exception": false,
     "start_time": "2022-07-03T23:35:06.504692",
     "status": "completed"
    },
    "tags": []
   },
   "outputs": [],
   "source": [
    "x = preprocessor(inputs)\n",
    "result = network(x)\n",
    "model = tf.keras.Model(inputs, result)"
   ]
  },
  {
   "cell_type": "code",
   "execution_count": 21,
   "id": "3b387a09",
   "metadata": {
    "execution": {
     "iopub.execute_input": "2022-07-03T23:35:06.617893Z",
     "iopub.status.busy": "2022-07-03T23:35:06.617051Z",
     "iopub.status.idle": "2022-07-03T23:35:06.636419Z",
     "shell.execute_reply": "2022-07-03T23:35:06.635332Z"
    },
    "papermill": {
     "duration": 0.031451,
     "end_time": "2022-07-03T23:35:06.639024",
     "exception": false,
     "start_time": "2022-07-03T23:35:06.607573",
     "status": "completed"
    },
    "tags": []
   },
   "outputs": [],
   "source": [
    "model.compile(optimizer='adam',\n",
    "                loss=tf.keras.losses.BinaryCrossentropy(from_logits=True),\n",
    "                metrics=['accuracy'])"
   ]
  },
  {
   "cell_type": "code",
   "execution_count": 22,
   "id": "53099896",
   "metadata": {
    "execution": {
     "iopub.execute_input": "2022-07-03T23:35:06.657012Z",
     "iopub.status.busy": "2022-07-03T23:35:06.656627Z",
     "iopub.status.idle": "2022-07-03T23:35:12.708976Z",
     "shell.execute_reply": "2022-07-03T23:35:12.707382Z"
    },
    "papermill": {
     "duration": 6.065195,
     "end_time": "2022-07-03T23:35:12.712263",
     "exception": false,
     "start_time": "2022-07-03T23:35:06.647068",
     "status": "completed"
    },
    "tags": []
   },
   "outputs": [
    {
     "name": "stdout",
     "output_type": "stream",
     "text": [
      "Epoch 1/25\n",
      "90/90 [==============================] - 1s 2ms/step - loss: 0.6630 - accuracy: 0.6064\n",
      "Epoch 2/25\n",
      "90/90 [==============================] - 0s 2ms/step - loss: 0.6056 - accuracy: 0.6611\n",
      "Epoch 3/25\n",
      "90/90 [==============================] - 0s 2ms/step - loss: 0.5350 - accuracy: 0.7213\n",
      "Epoch 4/25\n",
      "90/90 [==============================] - 0s 2ms/step - loss: 0.4827 - accuracy: 0.7871\n",
      "Epoch 5/25\n",
      "90/90 [==============================] - 0s 2ms/step - loss: 0.4574 - accuracy: 0.7913\n",
      "Epoch 6/25\n",
      "90/90 [==============================] - 0s 2ms/step - loss: 0.4464 - accuracy: 0.7927\n",
      "Epoch 7/25\n",
      "90/90 [==============================] - 0s 2ms/step - loss: 0.4386 - accuracy: 0.7955\n",
      "Epoch 8/25\n",
      "90/90 [==============================] - 0s 3ms/step - loss: 0.4339 - accuracy: 0.7969\n",
      "Epoch 9/25\n",
      "90/90 [==============================] - 0s 3ms/step - loss: 0.4300 - accuracy: 0.7983\n",
      "Epoch 10/25\n",
      "90/90 [==============================] - 0s 3ms/step - loss: 0.4272 - accuracy: 0.7997\n",
      "Epoch 11/25\n",
      "90/90 [==============================] - 0s 2ms/step - loss: 0.4253 - accuracy: 0.8025\n",
      "Epoch 12/25\n",
      "90/90 [==============================] - 0s 2ms/step - loss: 0.4239 - accuracy: 0.8053\n",
      "Epoch 13/25\n",
      "90/90 [==============================] - 0s 2ms/step - loss: 0.4227 - accuracy: 0.8095\n",
      "Epoch 14/25\n",
      "90/90 [==============================] - 0s 2ms/step - loss: 0.4205 - accuracy: 0.8067\n",
      "Epoch 15/25\n",
      "90/90 [==============================] - 0s 2ms/step - loss: 0.4189 - accuracy: 0.8109\n",
      "Epoch 16/25\n",
      "90/90 [==============================] - 0s 2ms/step - loss: 0.4186 - accuracy: 0.8137\n",
      "Epoch 17/25\n",
      "90/90 [==============================] - 0s 2ms/step - loss: 0.4167 - accuracy: 0.8193\n",
      "Epoch 18/25\n",
      "90/90 [==============================] - 0s 2ms/step - loss: 0.4154 - accuracy: 0.8081\n",
      "Epoch 19/25\n",
      "90/90 [==============================] - 0s 2ms/step - loss: 0.4151 - accuracy: 0.8193\n",
      "Epoch 20/25\n",
      "90/90 [==============================] - 0s 2ms/step - loss: 0.4148 - accuracy: 0.8249\n",
      "Epoch 21/25\n",
      "90/90 [==============================] - 0s 2ms/step - loss: 0.4149 - accuracy: 0.8137\n",
      "Epoch 22/25\n",
      "90/90 [==============================] - 0s 2ms/step - loss: 0.4132 - accuracy: 0.8221\n",
      "Epoch 23/25\n",
      "90/90 [==============================] - 0s 2ms/step - loss: 0.4123 - accuracy: 0.8207\n",
      "Epoch 24/25\n",
      "90/90 [==============================] - 0s 2ms/step - loss: 0.4121 - accuracy: 0.8179\n",
      "Epoch 25/25\n",
      "90/90 [==============================] - 0s 2ms/step - loss: 0.4111 - accuracy: 0.8193\n"
     ]
    }
   ],
   "source": [
    "history = model.fit(dict(data), target, epochs=25, batch_size=8)"
   ]
  },
  {
   "cell_type": "code",
   "execution_count": 23,
   "id": "e3a8c57f",
   "metadata": {
    "execution": {
     "iopub.execute_input": "2022-07-03T23:35:12.750990Z",
     "iopub.status.busy": "2022-07-03T23:35:12.750568Z",
     "iopub.status.idle": "2022-07-03T23:35:18.980899Z",
     "shell.execute_reply": "2022-07-03T23:35:18.979314Z"
    },
    "papermill": {
     "duration": 6.252283,
     "end_time": "2022-07-03T23:35:18.983847",
     "exception": false,
     "start_time": "2022-07-03T23:35:12.731564",
     "status": "completed"
    },
    "tags": []
   },
   "outputs": [
    {
     "name": "stdout",
     "output_type": "stream",
     "text": [
      "Epoch 1/20\n",
      "72/72 [==============================] - 1s 8ms/step - loss: 0.4297 - accuracy: 0.8126 - val_loss: 0.3293 - val_accuracy: 0.8601\n",
      "Epoch 2/20\n",
      "72/72 [==============================] - 0s 4ms/step - loss: 0.4298 - accuracy: 0.8126 - val_loss: 0.3338 - val_accuracy: 0.8601\n",
      "Epoch 3/20\n",
      "72/72 [==============================] - 0s 4ms/step - loss: 0.4285 - accuracy: 0.8109 - val_loss: 0.3333 - val_accuracy: 0.8601\n",
      "Epoch 4/20\n",
      "72/72 [==============================] - 0s 5ms/step - loss: 0.4279 - accuracy: 0.8144 - val_loss: 0.3326 - val_accuracy: 0.8601\n",
      "Epoch 5/20\n",
      "72/72 [==============================] - 0s 4ms/step - loss: 0.4274 - accuracy: 0.8074 - val_loss: 0.3332 - val_accuracy: 0.8601\n",
      "Epoch 6/20\n",
      "72/72 [==============================] - 0s 3ms/step - loss: 0.4262 - accuracy: 0.8109 - val_loss: 0.3367 - val_accuracy: 0.8601\n",
      "Epoch 7/20\n",
      "72/72 [==============================] - 0s 3ms/step - loss: 0.4265 - accuracy: 0.8091 - val_loss: 0.3346 - val_accuracy: 0.8601\n",
      "Epoch 8/20\n",
      "72/72 [==============================] - 0s 3ms/step - loss: 0.4281 - accuracy: 0.8056 - val_loss: 0.3337 - val_accuracy: 0.8601\n",
      "Epoch 9/20\n",
      "72/72 [==============================] - 0s 3ms/step - loss: 0.4258 - accuracy: 0.8091 - val_loss: 0.3371 - val_accuracy: 0.8601\n",
      "Epoch 10/20\n",
      "72/72 [==============================] - 0s 3ms/step - loss: 0.4254 - accuracy: 0.8109 - val_loss: 0.3347 - val_accuracy: 0.8601\n",
      "Epoch 11/20\n",
      "72/72 [==============================] - 0s 3ms/step - loss: 0.4252 - accuracy: 0.8074 - val_loss: 0.3329 - val_accuracy: 0.8601\n",
      "Epoch 12/20\n",
      "72/72 [==============================] - 0s 3ms/step - loss: 0.4260 - accuracy: 0.8074 - val_loss: 0.3340 - val_accuracy: 0.8601\n",
      "Epoch 13/20\n",
      "72/72 [==============================] - 0s 4ms/step - loss: 0.4256 - accuracy: 0.8109 - val_loss: 0.3338 - val_accuracy: 0.8601\n",
      "Epoch 14/20\n",
      "72/72 [==============================] - 0s 3ms/step - loss: 0.4247 - accuracy: 0.8074 - val_loss: 0.3343 - val_accuracy: 0.8601\n",
      "Epoch 15/20\n",
      "72/72 [==============================] - 0s 3ms/step - loss: 0.4243 - accuracy: 0.8091 - val_loss: 0.3338 - val_accuracy: 0.8601\n",
      "Epoch 16/20\n",
      "72/72 [==============================] - 0s 3ms/step - loss: 0.4237 - accuracy: 0.8091 - val_loss: 0.3341 - val_accuracy: 0.8601\n",
      "Epoch 17/20\n",
      "72/72 [==============================] - 0s 3ms/step - loss: 0.4230 - accuracy: 0.8109 - val_loss: 0.3359 - val_accuracy: 0.8601\n",
      "Epoch 18/20\n",
      "72/72 [==============================] - 0s 3ms/step - loss: 0.4232 - accuracy: 0.8074 - val_loss: 0.3330 - val_accuracy: 0.8601\n",
      "Epoch 19/20\n",
      "72/72 [==============================] - 0s 3ms/step - loss: 0.4236 - accuracy: 0.8091 - val_loss: 0.3377 - val_accuracy: 0.8601\n",
      "Epoch 20/20\n",
      "72/72 [==============================] - 0s 3ms/step - loss: 0.4223 - accuracy: 0.8074 - val_loss: 0.3374 - val_accuracy: 0.8601\n"
     ]
    }
   ],
   "source": [
    "from sklearn.model_selection import train_test_split\n",
    "\n",
    "train_data, val_data, train_target, val_target = train_test_split(data,target, train_size=0.8)\n",
    "history = model.fit(dict(train_data), train_target, validation_data=(dict(val_data), val_target), epochs=20, batch_size=8)"
   ]
  },
  {
   "cell_type": "code",
   "execution_count": 24,
   "id": "1b576ea0",
   "metadata": {
    "execution": {
     "iopub.execute_input": "2022-07-03T23:35:19.036655Z",
     "iopub.status.busy": "2022-07-03T23:35:19.035813Z",
     "iopub.status.idle": "2022-07-03T23:35:19.143398Z",
     "shell.execute_reply": "2022-07-03T23:35:19.141834Z"
    },
    "papermill": {
     "duration": 0.137309,
     "end_time": "2022-07-03T23:35:19.146261",
     "exception": false,
     "start_time": "2022-07-03T23:35:19.008952",
     "status": "completed"
    },
    "tags": []
   },
   "outputs": [
    {
     "name": "stdout",
     "output_type": "stream",
     "text": [
      "5/5 [==============================] - 0s 3ms/step - loss: 0.4191 - accuracy: 0.8091\n",
      "test loss, test accuracy: [0.4191390573978424, 0.8091068267822266]\n"
     ]
    }
   ],
   "source": [
    "results = model.evaluate(dict(train_data), train_target, batch_size=128)\n",
    "print(\"test loss, test accuracy:\", results)\n"
   ]
  },
  {
   "cell_type": "code",
   "execution_count": null,
   "id": "2b790b51",
   "metadata": {
    "papermill": {
     "duration": 0.024527,
     "end_time": "2022-07-03T23:35:19.195632",
     "exception": false,
     "start_time": "2022-07-03T23:35:19.171105",
     "status": "completed"
    },
    "tags": []
   },
   "outputs": [],
   "source": []
  }
 ],
 "metadata": {
  "kernelspec": {
   "display_name": "Python 3",
   "language": "python",
   "name": "python3"
  },
  "language_info": {
   "codemirror_mode": {
    "name": "ipython",
    "version": 3
   },
   "file_extension": ".py",
   "mimetype": "text/x-python",
   "name": "python",
   "nbconvert_exporter": "python",
   "pygments_lexer": "ipython3",
   "version": "3.7.12"
  },
  "papermill": {
   "default_parameters": {},
   "duration": 38.759145,
   "end_time": "2022-07-03T23:35:22.396737",
   "environment_variables": {},
   "exception": null,
   "input_path": "__notebook__.ipynb",
   "output_path": "__notebook__.ipynb",
   "parameters": {},
   "start_time": "2022-07-03T23:34:43.637592",
   "version": "2.3.4"
  }
 },
 "nbformat": 4,
 "nbformat_minor": 5
}
