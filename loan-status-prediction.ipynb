{
 "cells": [
  {
   "cell_type": "markdown",
   "id": "1e7feb79",
   "metadata": {
    "_cell_guid": "b1076dfc-b9ad-4769-8c92-a6c4dae69d19",
    "_uuid": "8f2839f25d086af736a60e9eeb907d3b93b6e0e5",
    "execution": {
     "iopub.execute_input": "2022-05-30T10:36:01.772581Z",
     "iopub.status.busy": "2022-05-30T10:36:01.772195Z",
     "iopub.status.idle": "2022-05-30T10:36:01.778063Z",
     "shell.execute_reply": "2022-05-30T10:36:01.777220Z",
     "shell.execute_reply.started": "2022-05-30T10:36:01.772546Z"
    },
    "papermill": {
     "duration": 0.010273,
     "end_time": "2022-05-30T11:34:38.085980",
     "exception": false,
     "start_time": "2022-05-30T11:34:38.075707",
     "status": "completed"
    },
    "tags": []
   },
   "source": [
    "# Importing Libraries"
   ]
  },
  {
   "cell_type": "code",
   "execution_count": 1,
   "id": "ffad4b8a",
   "metadata": {
    "execution": {
     "iopub.execute_input": "2022-05-30T11:34:38.101926Z",
     "iopub.status.busy": "2022-05-30T11:34:38.101031Z",
     "iopub.status.idle": "2022-05-30T11:34:39.265728Z",
     "shell.execute_reply": "2022-05-30T11:34:39.264776Z"
    },
    "papermill": {
     "duration": 1.175604,
     "end_time": "2022-05-30T11:34:39.268336",
     "exception": false,
     "start_time": "2022-05-30T11:34:38.092732",
     "status": "completed"
    },
    "tags": []
   },
   "outputs": [],
   "source": [
    "import numpy as np\n",
    "import pandas as pd\n",
    "from sklearn.model_selection import train_test_split\n",
    "from sklearn.linear_model import LogisticRegression\n",
    "from sklearn.metrics import accuracy_score"
   ]
  },
  {
   "cell_type": "markdown",
   "id": "3e3419e7",
   "metadata": {
    "papermill": {
     "duration": 0.006556,
     "end_time": "2022-05-30T11:34:39.281685",
     "exception": false,
     "start_time": "2022-05-30T11:34:39.275129",
     "status": "completed"
    },
    "tags": []
   },
   "source": [
    "# Reading Dataset"
   ]
  },
  {
   "cell_type": "code",
   "execution_count": 2,
   "id": "15a9792f",
   "metadata": {
    "execution": {
     "iopub.execute_input": "2022-05-30T11:34:39.297086Z",
     "iopub.status.busy": "2022-05-30T11:34:39.296467Z",
     "iopub.status.idle": "2022-05-30T11:34:39.319750Z",
     "shell.execute_reply": "2022-05-30T11:34:39.318752Z"
    },
    "papermill": {
     "duration": 0.033647,
     "end_time": "2022-05-30T11:34:39.322106",
     "exception": false,
     "start_time": "2022-05-30T11:34:39.288459",
     "status": "completed"
    },
    "tags": []
   },
   "outputs": [],
   "source": [
    "loan_dataset= pd.read_csv('../input/loan-predication/train_u6lujuX_CVtuZ9i (1).csv')"
   ]
  },
  {
   "cell_type": "markdown",
   "id": "844b5193",
   "metadata": {
    "papermill": {
     "duration": 0.006274,
     "end_time": "2022-05-30T11:34:39.335209",
     "exception": false,
     "start_time": "2022-05-30T11:34:39.328935",
     "status": "completed"
    },
    "tags": []
   },
   "source": [
    "# Data Preprocessing"
   ]
  },
  {
   "cell_type": "code",
   "execution_count": 3,
   "id": "a5240c85",
   "metadata": {
    "execution": {
     "iopub.execute_input": "2022-05-30T11:34:39.350134Z",
     "iopub.status.busy": "2022-05-30T11:34:39.349728Z",
     "iopub.status.idle": "2022-05-30T11:34:39.392471Z",
     "shell.execute_reply": "2022-05-30T11:34:39.391841Z"
    },
    "papermill": {
     "duration": 0.052869,
     "end_time": "2022-05-30T11:34:39.394840",
     "exception": false,
     "start_time": "2022-05-30T11:34:39.341971",
     "status": "completed"
    },
    "tags": []
   },
   "outputs": [
    {
     "data": {
      "text/html": [
       "<div>\n",
       "<style scoped>\n",
       "    .dataframe tbody tr th:only-of-type {\n",
       "        vertical-align: middle;\n",
       "    }\n",
       "\n",
       "    .dataframe tbody tr th {\n",
       "        vertical-align: top;\n",
       "    }\n",
       "\n",
       "    .dataframe thead th {\n",
       "        text-align: right;\n",
       "    }\n",
       "</style>\n",
       "<table border=\"1\" class=\"dataframe\">\n",
       "  <thead>\n",
       "    <tr style=\"text-align: right;\">\n",
       "      <th></th>\n",
       "      <th>ApplicantIncome</th>\n",
       "      <th>CoapplicantIncome</th>\n",
       "      <th>LoanAmount</th>\n",
       "      <th>Loan_Amount_Term</th>\n",
       "      <th>Credit_History</th>\n",
       "    </tr>\n",
       "  </thead>\n",
       "  <tbody>\n",
       "    <tr>\n",
       "      <th>count</th>\n",
       "      <td>614.000000</td>\n",
       "      <td>614.000000</td>\n",
       "      <td>592.000000</td>\n",
       "      <td>600.00000</td>\n",
       "      <td>564.000000</td>\n",
       "    </tr>\n",
       "    <tr>\n",
       "      <th>mean</th>\n",
       "      <td>5403.459283</td>\n",
       "      <td>1621.245798</td>\n",
       "      <td>146.412162</td>\n",
       "      <td>342.00000</td>\n",
       "      <td>0.842199</td>\n",
       "    </tr>\n",
       "    <tr>\n",
       "      <th>std</th>\n",
       "      <td>6109.041673</td>\n",
       "      <td>2926.248369</td>\n",
       "      <td>85.587325</td>\n",
       "      <td>65.12041</td>\n",
       "      <td>0.364878</td>\n",
       "    </tr>\n",
       "    <tr>\n",
       "      <th>min</th>\n",
       "      <td>150.000000</td>\n",
       "      <td>0.000000</td>\n",
       "      <td>9.000000</td>\n",
       "      <td>12.00000</td>\n",
       "      <td>0.000000</td>\n",
       "    </tr>\n",
       "    <tr>\n",
       "      <th>25%</th>\n",
       "      <td>2877.500000</td>\n",
       "      <td>0.000000</td>\n",
       "      <td>100.000000</td>\n",
       "      <td>360.00000</td>\n",
       "      <td>1.000000</td>\n",
       "    </tr>\n",
       "    <tr>\n",
       "      <th>50%</th>\n",
       "      <td>3812.500000</td>\n",
       "      <td>1188.500000</td>\n",
       "      <td>128.000000</td>\n",
       "      <td>360.00000</td>\n",
       "      <td>1.000000</td>\n",
       "    </tr>\n",
       "    <tr>\n",
       "      <th>75%</th>\n",
       "      <td>5795.000000</td>\n",
       "      <td>2297.250000</td>\n",
       "      <td>168.000000</td>\n",
       "      <td>360.00000</td>\n",
       "      <td>1.000000</td>\n",
       "    </tr>\n",
       "    <tr>\n",
       "      <th>max</th>\n",
       "      <td>81000.000000</td>\n",
       "      <td>41667.000000</td>\n",
       "      <td>700.000000</td>\n",
       "      <td>480.00000</td>\n",
       "      <td>1.000000</td>\n",
       "    </tr>\n",
       "  </tbody>\n",
       "</table>\n",
       "</div>"
      ],
      "text/plain": [
       "       ApplicantIncome  CoapplicantIncome  LoanAmount  Loan_Amount_Term  \\\n",
       "count       614.000000         614.000000  592.000000         600.00000   \n",
       "mean       5403.459283        1621.245798  146.412162         342.00000   \n",
       "std        6109.041673        2926.248369   85.587325          65.12041   \n",
       "min         150.000000           0.000000    9.000000          12.00000   \n",
       "25%        2877.500000           0.000000  100.000000         360.00000   \n",
       "50%        3812.500000        1188.500000  128.000000         360.00000   \n",
       "75%        5795.000000        2297.250000  168.000000         360.00000   \n",
       "max       81000.000000       41667.000000  700.000000         480.00000   \n",
       "\n",
       "       Credit_History  \n",
       "count      564.000000  \n",
       "mean         0.842199  \n",
       "std          0.364878  \n",
       "min          0.000000  \n",
       "25%          1.000000  \n",
       "50%          1.000000  \n",
       "75%          1.000000  \n",
       "max          1.000000  "
      ]
     },
     "execution_count": 3,
     "metadata": {},
     "output_type": "execute_result"
    }
   ],
   "source": [
    "# statistical measures\n",
    "loan_dataset.describe()"
   ]
  },
  {
   "cell_type": "code",
   "execution_count": 4,
   "id": "f90f7aed",
   "metadata": {
    "execution": {
     "iopub.execute_input": "2022-05-30T11:34:39.410589Z",
     "iopub.status.busy": "2022-05-30T11:34:39.410041Z",
     "iopub.status.idle": "2022-05-30T11:34:39.418380Z",
     "shell.execute_reply": "2022-05-30T11:34:39.417451Z"
    },
    "papermill": {
     "duration": 0.018407,
     "end_time": "2022-05-30T11:34:39.420350",
     "exception": false,
     "start_time": "2022-05-30T11:34:39.401943",
     "status": "completed"
    },
    "tags": []
   },
   "outputs": [
    {
     "data": {
      "text/plain": [
       "Loan_ID               0\n",
       "Gender               13\n",
       "Married               3\n",
       "Dependents           15\n",
       "Education             0\n",
       "Self_Employed        32\n",
       "ApplicantIncome       0\n",
       "CoapplicantIncome     0\n",
       "LoanAmount           22\n",
       "Loan_Amount_Term     14\n",
       "Credit_History       50\n",
       "Property_Area         0\n",
       "Loan_Status           0\n",
       "dtype: int64"
      ]
     },
     "execution_count": 4,
     "metadata": {},
     "output_type": "execute_result"
    }
   ],
   "source": [
    "# number of missing values in each column\n",
    "loan_dataset.isnull().sum()"
   ]
  },
  {
   "cell_type": "code",
   "execution_count": 5,
   "id": "664ef031",
   "metadata": {
    "execution": {
     "iopub.execute_input": "2022-05-30T11:34:39.436362Z",
     "iopub.status.busy": "2022-05-30T11:34:39.435785Z",
     "iopub.status.idle": "2022-05-30T11:34:39.442521Z",
     "shell.execute_reply": "2022-05-30T11:34:39.441860Z"
    },
    "papermill": {
     "duration": 0.016829,
     "end_time": "2022-05-30T11:34:39.444335",
     "exception": false,
     "start_time": "2022-05-30T11:34:39.427506",
     "status": "completed"
    },
    "tags": []
   },
   "outputs": [],
   "source": [
    "# dropping the missing values\n",
    "loan_dataset = loan_dataset.dropna()"
   ]
  },
  {
   "cell_type": "code",
   "execution_count": 6,
   "id": "928e94b0",
   "metadata": {
    "execution": {
     "iopub.execute_input": "2022-05-30T11:34:39.460111Z",
     "iopub.status.busy": "2022-05-30T11:34:39.459553Z",
     "iopub.status.idle": "2022-05-30T11:34:39.467596Z",
     "shell.execute_reply": "2022-05-30T11:34:39.466762Z"
    },
    "papermill": {
     "duration": 0.018254,
     "end_time": "2022-05-30T11:34:39.469717",
     "exception": false,
     "start_time": "2022-05-30T11:34:39.451463",
     "status": "completed"
    },
    "tags": []
   },
   "outputs": [
    {
     "data": {
      "text/plain": [
       "Loan_ID              0\n",
       "Gender               0\n",
       "Married              0\n",
       "Dependents           0\n",
       "Education            0\n",
       "Self_Employed        0\n",
       "ApplicantIncome      0\n",
       "CoapplicantIncome    0\n",
       "LoanAmount           0\n",
       "Loan_Amount_Term     0\n",
       "Credit_History       0\n",
       "Property_Area        0\n",
       "Loan_Status          0\n",
       "dtype: int64"
      ]
     },
     "execution_count": 6,
     "metadata": {},
     "output_type": "execute_result"
    }
   ],
   "source": [
    "# number of missing values in each column\n",
    "loan_dataset.isnull().sum()"
   ]
  },
  {
   "cell_type": "code",
   "execution_count": 7,
   "id": "a87f520e",
   "metadata": {
    "execution": {
     "iopub.execute_input": "2022-05-30T11:34:39.486508Z",
     "iopub.status.busy": "2022-05-30T11:34:39.485818Z",
     "iopub.status.idle": "2022-05-30T11:34:39.492519Z",
     "shell.execute_reply": "2022-05-30T11:34:39.491855Z"
    },
    "papermill": {
     "duration": 0.017494,
     "end_time": "2022-05-30T11:34:39.494448",
     "exception": false,
     "start_time": "2022-05-30T11:34:39.476954",
     "status": "completed"
    },
    "tags": []
   },
   "outputs": [],
   "source": [
    "# numbering the labels\n",
    "loan_dataset.replace({\"Loan_Status\":{'N':0,'Y':1}},inplace=True)"
   ]
  },
  {
   "cell_type": "code",
   "execution_count": 8,
   "id": "3089e0ca",
   "metadata": {
    "execution": {
     "iopub.execute_input": "2022-05-30T11:34:39.511333Z",
     "iopub.status.busy": "2022-05-30T11:34:39.510742Z",
     "iopub.status.idle": "2022-05-30T11:34:39.515862Z",
     "shell.execute_reply": "2022-05-30T11:34:39.515201Z"
    },
    "papermill": {
     "duration": 0.015274,
     "end_time": "2022-05-30T11:34:39.517655",
     "exception": false,
     "start_time": "2022-05-30T11:34:39.502381",
     "status": "completed"
    },
    "tags": []
   },
   "outputs": [],
   "source": [
    "# replacing the value of 3+ to 4\n",
    "loan_dataset = loan_dataset.replace(to_replace='3+', value=4)"
   ]
  },
  {
   "cell_type": "code",
   "execution_count": 9,
   "id": "d1782820",
   "metadata": {
    "execution": {
     "iopub.execute_input": "2022-05-30T11:34:39.534149Z",
     "iopub.status.busy": "2022-05-30T11:34:39.533727Z",
     "iopub.status.idle": "2022-05-30T11:34:39.548555Z",
     "shell.execute_reply": "2022-05-30T11:34:39.547544Z"
    },
    "papermill": {
     "duration": 0.025741,
     "end_time": "2022-05-30T11:34:39.550698",
     "exception": false,
     "start_time": "2022-05-30T11:34:39.524957",
     "status": "completed"
    },
    "tags": []
   },
   "outputs": [],
   "source": [
    "# convert categorical columns to numerical values\n",
    "loan_dataset.replace({'Married':{'No':0,'Yes':1},'Gender':{'Male':1,'Female':0},'Self_Employed':{'No':0,'Yes':1},\n",
    "                      'Property_Area':{'Rural':0,'Semiurban':1,'Urban':2},'Education':{'Graduate':1,'Not Graduate':0}},inplace=True)"
   ]
  },
  {
   "cell_type": "code",
   "execution_count": 10,
   "id": "ad438f1f",
   "metadata": {
    "execution": {
     "iopub.execute_input": "2022-05-30T11:34:39.566701Z",
     "iopub.status.busy": "2022-05-30T11:34:39.566317Z",
     "iopub.status.idle": "2022-05-30T11:34:39.583097Z",
     "shell.execute_reply": "2022-05-30T11:34:39.582190Z"
    },
    "papermill": {
     "duration": 0.027176,
     "end_time": "2022-05-30T11:34:39.585125",
     "exception": false,
     "start_time": "2022-05-30T11:34:39.557949",
     "status": "completed"
    },
    "tags": []
   },
   "outputs": [
    {
     "data": {
      "text/html": [
       "<div>\n",
       "<style scoped>\n",
       "    .dataframe tbody tr th:only-of-type {\n",
       "        vertical-align: middle;\n",
       "    }\n",
       "\n",
       "    .dataframe tbody tr th {\n",
       "        vertical-align: top;\n",
       "    }\n",
       "\n",
       "    .dataframe thead th {\n",
       "        text-align: right;\n",
       "    }\n",
       "</style>\n",
       "<table border=\"1\" class=\"dataframe\">\n",
       "  <thead>\n",
       "    <tr style=\"text-align: right;\">\n",
       "      <th></th>\n",
       "      <th>Loan_ID</th>\n",
       "      <th>Gender</th>\n",
       "      <th>Married</th>\n",
       "      <th>Dependents</th>\n",
       "      <th>Education</th>\n",
       "      <th>Self_Employed</th>\n",
       "      <th>ApplicantIncome</th>\n",
       "      <th>CoapplicantIncome</th>\n",
       "      <th>LoanAmount</th>\n",
       "      <th>Loan_Amount_Term</th>\n",
       "      <th>Credit_History</th>\n",
       "      <th>Property_Area</th>\n",
       "      <th>Loan_Status</th>\n",
       "    </tr>\n",
       "  </thead>\n",
       "  <tbody>\n",
       "    <tr>\n",
       "      <th>1</th>\n",
       "      <td>LP001003</td>\n",
       "      <td>1</td>\n",
       "      <td>1</td>\n",
       "      <td>1</td>\n",
       "      <td>1</td>\n",
       "      <td>0</td>\n",
       "      <td>4583</td>\n",
       "      <td>1508.0</td>\n",
       "      <td>128.0</td>\n",
       "      <td>360.0</td>\n",
       "      <td>1.0</td>\n",
       "      <td>0</td>\n",
       "      <td>0</td>\n",
       "    </tr>\n",
       "    <tr>\n",
       "      <th>2</th>\n",
       "      <td>LP001005</td>\n",
       "      <td>1</td>\n",
       "      <td>1</td>\n",
       "      <td>0</td>\n",
       "      <td>1</td>\n",
       "      <td>1</td>\n",
       "      <td>3000</td>\n",
       "      <td>0.0</td>\n",
       "      <td>66.0</td>\n",
       "      <td>360.0</td>\n",
       "      <td>1.0</td>\n",
       "      <td>2</td>\n",
       "      <td>1</td>\n",
       "    </tr>\n",
       "    <tr>\n",
       "      <th>3</th>\n",
       "      <td>LP001006</td>\n",
       "      <td>1</td>\n",
       "      <td>1</td>\n",
       "      <td>0</td>\n",
       "      <td>0</td>\n",
       "      <td>0</td>\n",
       "      <td>2583</td>\n",
       "      <td>2358.0</td>\n",
       "      <td>120.0</td>\n",
       "      <td>360.0</td>\n",
       "      <td>1.0</td>\n",
       "      <td>2</td>\n",
       "      <td>1</td>\n",
       "    </tr>\n",
       "    <tr>\n",
       "      <th>4</th>\n",
       "      <td>LP001008</td>\n",
       "      <td>1</td>\n",
       "      <td>0</td>\n",
       "      <td>0</td>\n",
       "      <td>1</td>\n",
       "      <td>0</td>\n",
       "      <td>6000</td>\n",
       "      <td>0.0</td>\n",
       "      <td>141.0</td>\n",
       "      <td>360.0</td>\n",
       "      <td>1.0</td>\n",
       "      <td>2</td>\n",
       "      <td>1</td>\n",
       "    </tr>\n",
       "    <tr>\n",
       "      <th>5</th>\n",
       "      <td>LP001011</td>\n",
       "      <td>1</td>\n",
       "      <td>1</td>\n",
       "      <td>2</td>\n",
       "      <td>1</td>\n",
       "      <td>1</td>\n",
       "      <td>5417</td>\n",
       "      <td>4196.0</td>\n",
       "      <td>267.0</td>\n",
       "      <td>360.0</td>\n",
       "      <td>1.0</td>\n",
       "      <td>2</td>\n",
       "      <td>1</td>\n",
       "    </tr>\n",
       "  </tbody>\n",
       "</table>\n",
       "</div>"
      ],
      "text/plain": [
       "    Loan_ID  Gender  Married Dependents  Education  Self_Employed  \\\n",
       "1  LP001003       1        1          1          1              0   \n",
       "2  LP001005       1        1          0          1              1   \n",
       "3  LP001006       1        1          0          0              0   \n",
       "4  LP001008       1        0          0          1              0   \n",
       "5  LP001011       1        1          2          1              1   \n",
       "\n",
       "   ApplicantIncome  CoapplicantIncome  LoanAmount  Loan_Amount_Term  \\\n",
       "1             4583             1508.0       128.0             360.0   \n",
       "2             3000                0.0        66.0             360.0   \n",
       "3             2583             2358.0       120.0             360.0   \n",
       "4             6000                0.0       141.0             360.0   \n",
       "5             5417             4196.0       267.0             360.0   \n",
       "\n",
       "   Credit_History  Property_Area  Loan_Status  \n",
       "1             1.0              0            0  \n",
       "2             1.0              2            1  \n",
       "3             1.0              2            1  \n",
       "4             1.0              2            1  \n",
       "5             1.0              2            1  "
      ]
     },
     "execution_count": 10,
     "metadata": {},
     "output_type": "execute_result"
    }
   ],
   "source": [
    "loan_dataset.head()"
   ]
  },
  {
   "cell_type": "code",
   "execution_count": 11,
   "id": "0de74695",
   "metadata": {
    "execution": {
     "iopub.execute_input": "2022-05-30T11:34:39.601989Z",
     "iopub.status.busy": "2022-05-30T11:34:39.601573Z",
     "iopub.status.idle": "2022-05-30T11:34:39.608366Z",
     "shell.execute_reply": "2022-05-30T11:34:39.607389Z"
    },
    "papermill": {
     "duration": 0.01741,
     "end_time": "2022-05-30T11:34:39.610106",
     "exception": false,
     "start_time": "2022-05-30T11:34:39.592696",
     "status": "completed"
    },
    "tags": []
   },
   "outputs": [],
   "source": [
    "# separating the data and label\n",
    "X = loan_dataset.drop(columns=['Loan_ID','Loan_Status'],axis=1)\n",
    "Y = loan_dataset['Loan_Status']"
   ]
  },
  {
   "cell_type": "markdown",
   "id": "c2e56784",
   "metadata": {
    "papermill": {
     "duration": 0.007236,
     "end_time": "2022-05-30T11:34:39.624786",
     "exception": false,
     "start_time": "2022-05-30T11:34:39.617550",
     "status": "completed"
    },
    "tags": []
   },
   "source": [
    "# Train Test Split"
   ]
  },
  {
   "cell_type": "code",
   "execution_count": 12,
   "id": "e11fb013",
   "metadata": {
    "execution": {
     "iopub.execute_input": "2022-05-30T11:34:39.641277Z",
     "iopub.status.busy": "2022-05-30T11:34:39.640898Z",
     "iopub.status.idle": "2022-05-30T11:34:39.647814Z",
     "shell.execute_reply": "2022-05-30T11:34:39.646978Z"
    },
    "papermill": {
     "duration": 0.017696,
     "end_time": "2022-05-30T11:34:39.649926",
     "exception": false,
     "start_time": "2022-05-30T11:34:39.632230",
     "status": "completed"
    },
    "tags": []
   },
   "outputs": [],
   "source": [
    "X_train, X_test,Y_train,Y_test = train_test_split(X,Y,test_size=0.25,random_state=2)"
   ]
  },
  {
   "cell_type": "markdown",
   "id": "33fc0862",
   "metadata": {
    "papermill": {
     "duration": 0.007165,
     "end_time": "2022-05-30T11:34:39.664549",
     "exception": false,
     "start_time": "2022-05-30T11:34:39.657384",
     "status": "completed"
    },
    "tags": []
   },
   "source": [
    "# Training Model"
   ]
  },
  {
   "cell_type": "code",
   "execution_count": 13,
   "id": "7cf50388",
   "metadata": {
    "execution": {
     "iopub.execute_input": "2022-05-30T11:34:39.681066Z",
     "iopub.status.busy": "2022-05-30T11:34:39.680508Z",
     "iopub.status.idle": "2022-05-30T11:34:39.684999Z",
     "shell.execute_reply": "2022-05-30T11:34:39.684188Z"
    },
    "papermill": {
     "duration": 0.014786,
     "end_time": "2022-05-30T11:34:39.686726",
     "exception": false,
     "start_time": "2022-05-30T11:34:39.671940",
     "status": "completed"
    },
    "tags": []
   },
   "outputs": [],
   "source": [
    "model = LogisticRegression(solver='lbfgs', max_iter=1000)"
   ]
  },
  {
   "cell_type": "code",
   "execution_count": 14,
   "id": "3726e35f",
   "metadata": {
    "execution": {
     "iopub.execute_input": "2022-05-30T11:34:39.703345Z",
     "iopub.status.busy": "2022-05-30T11:34:39.702724Z",
     "iopub.status.idle": "2022-05-30T11:34:39.745728Z",
     "shell.execute_reply": "2022-05-30T11:34:39.744853Z"
    },
    "papermill": {
     "duration": 0.053538,
     "end_time": "2022-05-30T11:34:39.747714",
     "exception": false,
     "start_time": "2022-05-30T11:34:39.694176",
     "status": "completed"
    },
    "tags": []
   },
   "outputs": [
    {
     "data": {
      "text/plain": [
       "LogisticRegression(max_iter=1000)"
      ]
     },
     "execution_count": 14,
     "metadata": {},
     "output_type": "execute_result"
    }
   ],
   "source": [
    "model.fit(X_train, Y_train)"
   ]
  },
  {
   "cell_type": "markdown",
   "id": "3e53df47",
   "metadata": {
    "papermill": {
     "duration": 0.007424,
     "end_time": "2022-05-30T11:34:39.762730",
     "exception": false,
     "start_time": "2022-05-30T11:34:39.755306",
     "status": "completed"
    },
    "tags": []
   },
   "source": [
    "# Evaluation of Model"
   ]
  },
  {
   "cell_type": "code",
   "execution_count": 15,
   "id": "bf0d59b5",
   "metadata": {
    "execution": {
     "iopub.execute_input": "2022-05-30T11:34:39.779600Z",
     "iopub.status.busy": "2022-05-30T11:34:39.778975Z",
     "iopub.status.idle": "2022-05-30T11:34:39.785748Z",
     "shell.execute_reply": "2022-05-30T11:34:39.785131Z"
    },
    "papermill": {
     "duration": 0.017434,
     "end_time": "2022-05-30T11:34:39.787566",
     "exception": false,
     "start_time": "2022-05-30T11:34:39.770132",
     "status": "completed"
    },
    "tags": []
   },
   "outputs": [],
   "source": [
    "X_train_prediction = model.predict(X_train)\n",
    "training_data_accuracy = accuracy_score(X_train_prediction, Y_train) "
   ]
  },
  {
   "cell_type": "code",
   "execution_count": 16,
   "id": "84c950fb",
   "metadata": {
    "execution": {
     "iopub.execute_input": "2022-05-30T11:34:39.804915Z",
     "iopub.status.busy": "2022-05-30T11:34:39.804336Z",
     "iopub.status.idle": "2022-05-30T11:34:39.808667Z",
     "shell.execute_reply": "2022-05-30T11:34:39.807930Z"
    },
    "papermill": {
     "duration": 0.015397,
     "end_time": "2022-05-30T11:34:39.810543",
     "exception": false,
     "start_time": "2022-05-30T11:34:39.795146",
     "status": "completed"
    },
    "tags": []
   },
   "outputs": [
    {
     "name": "stdout",
     "output_type": "stream",
     "text": [
      "Accuracy on training data :  0.8222222222222222\n"
     ]
    }
   ],
   "source": [
    "print('Accuracy on training data : ', training_data_accuracy)"
   ]
  },
  {
   "cell_type": "code",
   "execution_count": 17,
   "id": "e792ab18",
   "metadata": {
    "execution": {
     "iopub.execute_input": "2022-05-30T11:34:39.828046Z",
     "iopub.status.busy": "2022-05-30T11:34:39.827686Z",
     "iopub.status.idle": "2022-05-30T11:34:39.833966Z",
     "shell.execute_reply": "2022-05-30T11:34:39.833296Z"
    },
    "papermill": {
     "duration": 0.017371,
     "end_time": "2022-05-30T11:34:39.835934",
     "exception": false,
     "start_time": "2022-05-30T11:34:39.818563",
     "status": "completed"
    },
    "tags": []
   },
   "outputs": [],
   "source": [
    "X_test_prediction = model.predict(X_test)\n",
    "test_data_accuracy = accuracy_score(X_test_prediction, Y_test)"
   ]
  },
  {
   "cell_type": "code",
   "execution_count": 18,
   "id": "ad2ba9cd",
   "metadata": {
    "execution": {
     "iopub.execute_input": "2022-05-30T11:34:39.853405Z",
     "iopub.status.busy": "2022-05-30T11:34:39.852771Z",
     "iopub.status.idle": "2022-05-30T11:34:39.857264Z",
     "shell.execute_reply": "2022-05-30T11:34:39.856239Z"
    },
    "papermill": {
     "duration": 0.015452,
     "end_time": "2022-05-30T11:34:39.859057",
     "exception": false,
     "start_time": "2022-05-30T11:34:39.843605",
     "status": "completed"
    },
    "tags": []
   },
   "outputs": [
    {
     "name": "stdout",
     "output_type": "stream",
     "text": [
      "Accuracy on test data :  0.7833333333333333\n"
     ]
    }
   ],
   "source": [
    "print('Accuracy on test data : ', test_data_accuracy)"
   ]
  },
  {
   "cell_type": "code",
   "execution_count": null,
   "id": "f6e2f2cb",
   "metadata": {
    "papermill": {
     "duration": 0.007402,
     "end_time": "2022-05-30T11:34:39.874248",
     "exception": false,
     "start_time": "2022-05-30T11:34:39.866846",
     "status": "completed"
    },
    "tags": []
   },
   "outputs": [],
   "source": []
  },
  {
   "cell_type": "code",
   "execution_count": null,
   "id": "7e443c97",
   "metadata": {
    "papermill": {
     "duration": 0.007479,
     "end_time": "2022-05-30T11:34:39.889403",
     "exception": false,
     "start_time": "2022-05-30T11:34:39.881924",
     "status": "completed"
    },
    "tags": []
   },
   "outputs": [],
   "source": []
  }
 ],
 "metadata": {
  "kernelspec": {
   "display_name": "Python 3",
   "language": "python",
   "name": "python3"
  },
  "language_info": {
   "codemirror_mode": {
    "name": "ipython",
    "version": 3
   },
   "file_extension": ".py",
   "mimetype": "text/x-python",
   "name": "python",
   "nbconvert_exporter": "python",
   "pygments_lexer": "ipython3",
   "version": "3.7.12"
  },
  "papermill": {
   "default_parameters": {},
   "duration": 12.237717,
   "end_time": "2022-05-30T11:34:40.616515",
   "environment_variables": {},
   "exception": null,
   "input_path": "__notebook__.ipynb",
   "output_path": "__notebook__.ipynb",
   "parameters": {},
   "start_time": "2022-05-30T11:34:28.378798",
   "version": "2.3.4"
  }
 },
 "nbformat": 4,
 "nbformat_minor": 5
}
