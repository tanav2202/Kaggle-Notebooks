{
 "cells": [
  {
   "cell_type": "markdown",
   "id": "a6ad130d",
   "metadata": {
    "_cell_guid": "b1076dfc-b9ad-4769-8c92-a6c4dae69d19",
    "_uuid": "8f2839f25d086af736a60e9eeb907d3b93b6e0e5",
    "execution": {
     "iopub.execute_input": "2022-05-30T10:36:01.772581Z",
     "iopub.status.busy": "2022-05-30T10:36:01.772195Z",
     "iopub.status.idle": "2022-05-30T10:36:01.778063Z",
     "shell.execute_reply": "2022-05-30T10:36:01.77722Z",
     "shell.execute_reply.started": "2022-05-30T10:36:01.772546Z"
    },
    "papermill": {
     "duration": 0.010233,
     "end_time": "2022-05-30T12:36:48.396859",
     "exception": false,
     "start_time": "2022-05-30T12:36:48.386626",
     "status": "completed"
    },
    "tags": []
   },
   "source": [
    "# Importing Libraries"
   ]
  },
  {
   "cell_type": "code",
   "execution_count": 1,
   "id": "a1e4c14a",
   "metadata": {
    "execution": {
     "iopub.execute_input": "2022-05-30T12:36:48.413148Z",
     "iopub.status.busy": "2022-05-30T12:36:48.412460Z",
     "iopub.status.idle": "2022-05-30T12:36:49.691161Z",
     "shell.execute_reply": "2022-05-30T12:36:49.690030Z"
    },
    "papermill": {
     "duration": 1.290138,
     "end_time": "2022-05-30T12:36:49.693998",
     "exception": false,
     "start_time": "2022-05-30T12:36:48.403860",
     "status": "completed"
    },
    "tags": []
   },
   "outputs": [],
   "source": [
    "import numpy as np\n",
    "import pandas as pd\n",
    "from sklearn.model_selection import train_test_split\n",
    "from sklearn.linear_model import LogisticRegression\n",
    "from sklearn.metrics import accuracy_score\n",
    "import warnings\n",
    "warnings.filterwarnings(\"ignore\")"
   ]
  },
  {
   "cell_type": "markdown",
   "id": "5dc238d2",
   "metadata": {
    "papermill": {
     "duration": 0.006745,
     "end_time": "2022-05-30T12:36:49.708285",
     "exception": false,
     "start_time": "2022-05-30T12:36:49.701540",
     "status": "completed"
    },
    "tags": []
   },
   "source": [
    "# Reading Dataset"
   ]
  },
  {
   "cell_type": "code",
   "execution_count": 2,
   "id": "c82ffca5",
   "metadata": {
    "execution": {
     "iopub.execute_input": "2022-05-30T12:36:49.725164Z",
     "iopub.status.busy": "2022-05-30T12:36:49.724157Z",
     "iopub.status.idle": "2022-05-30T12:36:49.746427Z",
     "shell.execute_reply": "2022-05-30T12:36:49.745215Z"
    },
    "papermill": {
     "duration": 0.033838,
     "end_time": "2022-05-30T12:36:49.749185",
     "exception": false,
     "start_time": "2022-05-30T12:36:49.715347",
     "status": "completed"
    },
    "tags": []
   },
   "outputs": [],
   "source": [
    "loan_dataset= pd.read_csv('../input/loan-predication/train_u6lujuX_CVtuZ9i (1).csv')"
   ]
  },
  {
   "cell_type": "markdown",
   "id": "33d80251",
   "metadata": {
    "papermill": {
     "duration": 0.006641,
     "end_time": "2022-05-30T12:36:49.762894",
     "exception": false,
     "start_time": "2022-05-30T12:36:49.756253",
     "status": "completed"
    },
    "tags": []
   },
   "source": [
    "# Data Preprocessing"
   ]
  },
  {
   "cell_type": "code",
   "execution_count": 3,
   "id": "08ff9f1e",
   "metadata": {
    "execution": {
     "iopub.execute_input": "2022-05-30T12:36:49.779772Z",
     "iopub.status.busy": "2022-05-30T12:36:49.779254Z",
     "iopub.status.idle": "2022-05-30T12:36:49.829595Z",
     "shell.execute_reply": "2022-05-30T12:36:49.828438Z"
    },
    "papermill": {
     "duration": 0.061886,
     "end_time": "2022-05-30T12:36:49.832702",
     "exception": false,
     "start_time": "2022-05-30T12:36:49.770816",
     "status": "completed"
    },
    "tags": []
   },
   "outputs": [
    {
     "data": {
      "text/html": [
       "<div>\n",
       "<style scoped>\n",
       "    .dataframe tbody tr th:only-of-type {\n",
       "        vertical-align: middle;\n",
       "    }\n",
       "\n",
       "    .dataframe tbody tr th {\n",
       "        vertical-align: top;\n",
       "    }\n",
       "\n",
       "    .dataframe thead th {\n",
       "        text-align: right;\n",
       "    }\n",
       "</style>\n",
       "<table border=\"1\" class=\"dataframe\">\n",
       "  <thead>\n",
       "    <tr style=\"text-align: right;\">\n",
       "      <th></th>\n",
       "      <th>ApplicantIncome</th>\n",
       "      <th>CoapplicantIncome</th>\n",
       "      <th>LoanAmount</th>\n",
       "      <th>Loan_Amount_Term</th>\n",
       "      <th>Credit_History</th>\n",
       "    </tr>\n",
       "  </thead>\n",
       "  <tbody>\n",
       "    <tr>\n",
       "      <th>count</th>\n",
       "      <td>614.000000</td>\n",
       "      <td>614.000000</td>\n",
       "      <td>592.000000</td>\n",
       "      <td>600.00000</td>\n",
       "      <td>564.000000</td>\n",
       "    </tr>\n",
       "    <tr>\n",
       "      <th>mean</th>\n",
       "      <td>5403.459283</td>\n",
       "      <td>1621.245798</td>\n",
       "      <td>146.412162</td>\n",
       "      <td>342.00000</td>\n",
       "      <td>0.842199</td>\n",
       "    </tr>\n",
       "    <tr>\n",
       "      <th>std</th>\n",
       "      <td>6109.041673</td>\n",
       "      <td>2926.248369</td>\n",
       "      <td>85.587325</td>\n",
       "      <td>65.12041</td>\n",
       "      <td>0.364878</td>\n",
       "    </tr>\n",
       "    <tr>\n",
       "      <th>min</th>\n",
       "      <td>150.000000</td>\n",
       "      <td>0.000000</td>\n",
       "      <td>9.000000</td>\n",
       "      <td>12.00000</td>\n",
       "      <td>0.000000</td>\n",
       "    </tr>\n",
       "    <tr>\n",
       "      <th>25%</th>\n",
       "      <td>2877.500000</td>\n",
       "      <td>0.000000</td>\n",
       "      <td>100.000000</td>\n",
       "      <td>360.00000</td>\n",
       "      <td>1.000000</td>\n",
       "    </tr>\n",
       "    <tr>\n",
       "      <th>50%</th>\n",
       "      <td>3812.500000</td>\n",
       "      <td>1188.500000</td>\n",
       "      <td>128.000000</td>\n",
       "      <td>360.00000</td>\n",
       "      <td>1.000000</td>\n",
       "    </tr>\n",
       "    <tr>\n",
       "      <th>75%</th>\n",
       "      <td>5795.000000</td>\n",
       "      <td>2297.250000</td>\n",
       "      <td>168.000000</td>\n",
       "      <td>360.00000</td>\n",
       "      <td>1.000000</td>\n",
       "    </tr>\n",
       "    <tr>\n",
       "      <th>max</th>\n",
       "      <td>81000.000000</td>\n",
       "      <td>41667.000000</td>\n",
       "      <td>700.000000</td>\n",
       "      <td>480.00000</td>\n",
       "      <td>1.000000</td>\n",
       "    </tr>\n",
       "  </tbody>\n",
       "</table>\n",
       "</div>"
      ],
      "text/plain": [
       "       ApplicantIncome  CoapplicantIncome  LoanAmount  Loan_Amount_Term  \\\n",
       "count       614.000000         614.000000  592.000000         600.00000   \n",
       "mean       5403.459283        1621.245798  146.412162         342.00000   \n",
       "std        6109.041673        2926.248369   85.587325          65.12041   \n",
       "min         150.000000           0.000000    9.000000          12.00000   \n",
       "25%        2877.500000           0.000000  100.000000         360.00000   \n",
       "50%        3812.500000        1188.500000  128.000000         360.00000   \n",
       "75%        5795.000000        2297.250000  168.000000         360.00000   \n",
       "max       81000.000000       41667.000000  700.000000         480.00000   \n",
       "\n",
       "       Credit_History  \n",
       "count      564.000000  \n",
       "mean         0.842199  \n",
       "std          0.364878  \n",
       "min          0.000000  \n",
       "25%          1.000000  \n",
       "50%          1.000000  \n",
       "75%          1.000000  \n",
       "max          1.000000  "
      ]
     },
     "execution_count": 3,
     "metadata": {},
     "output_type": "execute_result"
    }
   ],
   "source": [
    "# statistical measures\n",
    "loan_dataset.describe()"
   ]
  },
  {
   "cell_type": "code",
   "execution_count": 4,
   "id": "8f37e8b1",
   "metadata": {
    "execution": {
     "iopub.execute_input": "2022-05-30T12:36:49.849446Z",
     "iopub.status.busy": "2022-05-30T12:36:49.849033Z",
     "iopub.status.idle": "2022-05-30T12:36:49.859034Z",
     "shell.execute_reply": "2022-05-30T12:36:49.858067Z"
    },
    "papermill": {
     "duration": 0.020881,
     "end_time": "2022-05-30T12:36:49.861475",
     "exception": false,
     "start_time": "2022-05-30T12:36:49.840594",
     "status": "completed"
    },
    "tags": []
   },
   "outputs": [
    {
     "data": {
      "text/plain": [
       "Loan_ID               0\n",
       "Gender               13\n",
       "Married               3\n",
       "Dependents           15\n",
       "Education             0\n",
       "Self_Employed        32\n",
       "ApplicantIncome       0\n",
       "CoapplicantIncome     0\n",
       "LoanAmount           22\n",
       "Loan_Amount_Term     14\n",
       "Credit_History       50\n",
       "Property_Area         0\n",
       "Loan_Status           0\n",
       "dtype: int64"
      ]
     },
     "execution_count": 4,
     "metadata": {},
     "output_type": "execute_result"
    }
   ],
   "source": [
    "# number of missing values in each column\n",
    "loan_dataset.isnull().sum()"
   ]
  },
  {
   "cell_type": "code",
   "execution_count": 5,
   "id": "11a95a8d",
   "metadata": {
    "execution": {
     "iopub.execute_input": "2022-05-30T12:36:49.878035Z",
     "iopub.status.busy": "2022-05-30T12:36:49.877660Z",
     "iopub.status.idle": "2022-05-30T12:36:49.885756Z",
     "shell.execute_reply": "2022-05-30T12:36:49.884995Z"
    },
    "papermill": {
     "duration": 0.019136,
     "end_time": "2022-05-30T12:36:49.887964",
     "exception": false,
     "start_time": "2022-05-30T12:36:49.868828",
     "status": "completed"
    },
    "tags": []
   },
   "outputs": [],
   "source": [
    "# dropping the missing values\n",
    "loan_dataset = loan_dataset.dropna()"
   ]
  },
  {
   "cell_type": "code",
   "execution_count": 6,
   "id": "424ec18e",
   "metadata": {
    "execution": {
     "iopub.execute_input": "2022-05-30T12:36:49.904335Z",
     "iopub.status.busy": "2022-05-30T12:36:49.903624Z",
     "iopub.status.idle": "2022-05-30T12:36:49.912303Z",
     "shell.execute_reply": "2022-05-30T12:36:49.911602Z"
    },
    "papermill": {
     "duration": 0.018873,
     "end_time": "2022-05-30T12:36:49.914188",
     "exception": false,
     "start_time": "2022-05-30T12:36:49.895315",
     "status": "completed"
    },
    "tags": []
   },
   "outputs": [
    {
     "data": {
      "text/plain": [
       "Loan_ID              0\n",
       "Gender               0\n",
       "Married              0\n",
       "Dependents           0\n",
       "Education            0\n",
       "Self_Employed        0\n",
       "ApplicantIncome      0\n",
       "CoapplicantIncome    0\n",
       "LoanAmount           0\n",
       "Loan_Amount_Term     0\n",
       "Credit_History       0\n",
       "Property_Area        0\n",
       "Loan_Status          0\n",
       "dtype: int64"
      ]
     },
     "execution_count": 6,
     "metadata": {},
     "output_type": "execute_result"
    }
   ],
   "source": [
    "# number of missing values in each column\n",
    "loan_dataset.isnull().sum()"
   ]
  },
  {
   "cell_type": "code",
   "execution_count": 7,
   "id": "0e2d1a97",
   "metadata": {
    "execution": {
     "iopub.execute_input": "2022-05-30T12:36:49.930616Z",
     "iopub.status.busy": "2022-05-30T12:36:49.930201Z",
     "iopub.status.idle": "2022-05-30T12:36:49.936429Z",
     "shell.execute_reply": "2022-05-30T12:36:49.935679Z"
    },
    "papermill": {
     "duration": 0.01699,
     "end_time": "2022-05-30T12:36:49.938575",
     "exception": false,
     "start_time": "2022-05-30T12:36:49.921585",
     "status": "completed"
    },
    "tags": []
   },
   "outputs": [],
   "source": [
    "# numbering the labels\n",
    "loan_dataset.replace({\"Loan_Status\":{'N':0,'Y':1}},inplace=True)"
   ]
  },
  {
   "cell_type": "code",
   "execution_count": 8,
   "id": "6451ff9f",
   "metadata": {
    "execution": {
     "iopub.execute_input": "2022-05-30T12:36:49.955604Z",
     "iopub.status.busy": "2022-05-30T12:36:49.954967Z",
     "iopub.status.idle": "2022-05-30T12:36:49.960334Z",
     "shell.execute_reply": "2022-05-30T12:36:49.959560Z"
    },
    "papermill": {
     "duration": 0.016132,
     "end_time": "2022-05-30T12:36:49.962221",
     "exception": false,
     "start_time": "2022-05-30T12:36:49.946089",
     "status": "completed"
    },
    "tags": []
   },
   "outputs": [],
   "source": [
    "# replacing the value of 3+ to 4\n",
    "loan_dataset = loan_dataset.replace(to_replace='3+', value=4)"
   ]
  },
  {
   "cell_type": "code",
   "execution_count": 9,
   "id": "53ae4696",
   "metadata": {
    "execution": {
     "iopub.execute_input": "2022-05-30T12:36:49.979137Z",
     "iopub.status.busy": "2022-05-30T12:36:49.978507Z",
     "iopub.status.idle": "2022-05-30T12:36:49.991162Z",
     "shell.execute_reply": "2022-05-30T12:36:49.990422Z"
    },
    "papermill": {
     "duration": 0.023715,
     "end_time": "2022-05-30T12:36:49.993432",
     "exception": false,
     "start_time": "2022-05-30T12:36:49.969717",
     "status": "completed"
    },
    "tags": []
   },
   "outputs": [],
   "source": [
    "# convert categorical columns to numerical values\n",
    "loan_dataset.replace({'Married':{'No':0,'Yes':1},'Gender':{'Male':1,'Female':0},'Self_Employed':{'No':0,'Yes':1},\n",
    "                      'Property_Area':{'Rural':0,'Semiurban':1,'Urban':2},'Education':{'Graduate':1,'Not Graduate':0}},inplace=True)"
   ]
  },
  {
   "cell_type": "code",
   "execution_count": 10,
   "id": "accce639",
   "metadata": {
    "execution": {
     "iopub.execute_input": "2022-05-30T12:36:50.010946Z",
     "iopub.status.busy": "2022-05-30T12:36:50.010004Z",
     "iopub.status.idle": "2022-05-30T12:36:50.026633Z",
     "shell.execute_reply": "2022-05-30T12:36:50.025892Z"
    },
    "papermill": {
     "duration": 0.02773,
     "end_time": "2022-05-30T12:36:50.028786",
     "exception": false,
     "start_time": "2022-05-30T12:36:50.001056",
     "status": "completed"
    },
    "tags": []
   },
   "outputs": [
    {
     "data": {
      "text/html": [
       "<div>\n",
       "<style scoped>\n",
       "    .dataframe tbody tr th:only-of-type {\n",
       "        vertical-align: middle;\n",
       "    }\n",
       "\n",
       "    .dataframe tbody tr th {\n",
       "        vertical-align: top;\n",
       "    }\n",
       "\n",
       "    .dataframe thead th {\n",
       "        text-align: right;\n",
       "    }\n",
       "</style>\n",
       "<table border=\"1\" class=\"dataframe\">\n",
       "  <thead>\n",
       "    <tr style=\"text-align: right;\">\n",
       "      <th></th>\n",
       "      <th>Loan_ID</th>\n",
       "      <th>Gender</th>\n",
       "      <th>Married</th>\n",
       "      <th>Dependents</th>\n",
       "      <th>Education</th>\n",
       "      <th>Self_Employed</th>\n",
       "      <th>ApplicantIncome</th>\n",
       "      <th>CoapplicantIncome</th>\n",
       "      <th>LoanAmount</th>\n",
       "      <th>Loan_Amount_Term</th>\n",
       "      <th>Credit_History</th>\n",
       "      <th>Property_Area</th>\n",
       "      <th>Loan_Status</th>\n",
       "    </tr>\n",
       "  </thead>\n",
       "  <tbody>\n",
       "    <tr>\n",
       "      <th>1</th>\n",
       "      <td>LP001003</td>\n",
       "      <td>1</td>\n",
       "      <td>1</td>\n",
       "      <td>1</td>\n",
       "      <td>1</td>\n",
       "      <td>0</td>\n",
       "      <td>4583</td>\n",
       "      <td>1508.0</td>\n",
       "      <td>128.0</td>\n",
       "      <td>360.0</td>\n",
       "      <td>1.0</td>\n",
       "      <td>0</td>\n",
       "      <td>0</td>\n",
       "    </tr>\n",
       "    <tr>\n",
       "      <th>2</th>\n",
       "      <td>LP001005</td>\n",
       "      <td>1</td>\n",
       "      <td>1</td>\n",
       "      <td>0</td>\n",
       "      <td>1</td>\n",
       "      <td>1</td>\n",
       "      <td>3000</td>\n",
       "      <td>0.0</td>\n",
       "      <td>66.0</td>\n",
       "      <td>360.0</td>\n",
       "      <td>1.0</td>\n",
       "      <td>2</td>\n",
       "      <td>1</td>\n",
       "    </tr>\n",
       "    <tr>\n",
       "      <th>3</th>\n",
       "      <td>LP001006</td>\n",
       "      <td>1</td>\n",
       "      <td>1</td>\n",
       "      <td>0</td>\n",
       "      <td>0</td>\n",
       "      <td>0</td>\n",
       "      <td>2583</td>\n",
       "      <td>2358.0</td>\n",
       "      <td>120.0</td>\n",
       "      <td>360.0</td>\n",
       "      <td>1.0</td>\n",
       "      <td>2</td>\n",
       "      <td>1</td>\n",
       "    </tr>\n",
       "    <tr>\n",
       "      <th>4</th>\n",
       "      <td>LP001008</td>\n",
       "      <td>1</td>\n",
       "      <td>0</td>\n",
       "      <td>0</td>\n",
       "      <td>1</td>\n",
       "      <td>0</td>\n",
       "      <td>6000</td>\n",
       "      <td>0.0</td>\n",
       "      <td>141.0</td>\n",
       "      <td>360.0</td>\n",
       "      <td>1.0</td>\n",
       "      <td>2</td>\n",
       "      <td>1</td>\n",
       "    </tr>\n",
       "    <tr>\n",
       "      <th>5</th>\n",
       "      <td>LP001011</td>\n",
       "      <td>1</td>\n",
       "      <td>1</td>\n",
       "      <td>2</td>\n",
       "      <td>1</td>\n",
       "      <td>1</td>\n",
       "      <td>5417</td>\n",
       "      <td>4196.0</td>\n",
       "      <td>267.0</td>\n",
       "      <td>360.0</td>\n",
       "      <td>1.0</td>\n",
       "      <td>2</td>\n",
       "      <td>1</td>\n",
       "    </tr>\n",
       "  </tbody>\n",
       "</table>\n",
       "</div>"
      ],
      "text/plain": [
       "    Loan_ID  Gender  Married Dependents  Education  Self_Employed  \\\n",
       "1  LP001003       1        1          1          1              0   \n",
       "2  LP001005       1        1          0          1              1   \n",
       "3  LP001006       1        1          0          0              0   \n",
       "4  LP001008       1        0          0          1              0   \n",
       "5  LP001011       1        1          2          1              1   \n",
       "\n",
       "   ApplicantIncome  CoapplicantIncome  LoanAmount  Loan_Amount_Term  \\\n",
       "1             4583             1508.0       128.0             360.0   \n",
       "2             3000                0.0        66.0             360.0   \n",
       "3             2583             2358.0       120.0             360.0   \n",
       "4             6000                0.0       141.0             360.0   \n",
       "5             5417             4196.0       267.0             360.0   \n",
       "\n",
       "   Credit_History  Property_Area  Loan_Status  \n",
       "1             1.0              0            0  \n",
       "2             1.0              2            1  \n",
       "3             1.0              2            1  \n",
       "4             1.0              2            1  \n",
       "5             1.0              2            1  "
      ]
     },
     "execution_count": 10,
     "metadata": {},
     "output_type": "execute_result"
    }
   ],
   "source": [
    "loan_dataset.head()"
   ]
  },
  {
   "cell_type": "code",
   "execution_count": 11,
   "id": "80ab083e",
   "metadata": {
    "execution": {
     "iopub.execute_input": "2022-05-30T12:36:50.046944Z",
     "iopub.status.busy": "2022-05-30T12:36:50.046253Z",
     "iopub.status.idle": "2022-05-30T12:36:50.052660Z",
     "shell.execute_reply": "2022-05-30T12:36:50.051680Z"
    },
    "papermill": {
     "duration": 0.018334,
     "end_time": "2022-05-30T12:36:50.054897",
     "exception": false,
     "start_time": "2022-05-30T12:36:50.036563",
     "status": "completed"
    },
    "tags": []
   },
   "outputs": [],
   "source": [
    "# separating the data and label\n",
    "X = loan_dataset.drop(columns=['Loan_ID','Loan_Status'],axis=1)\n",
    "Y = loan_dataset['Loan_Status']"
   ]
  },
  {
   "cell_type": "markdown",
   "id": "02df6ca7",
   "metadata": {
    "papermill": {
     "duration": 0.007832,
     "end_time": "2022-05-30T12:36:50.070598",
     "exception": false,
     "start_time": "2022-05-30T12:36:50.062766",
     "status": "completed"
    },
    "tags": []
   },
   "source": [
    "# Train Test Split"
   ]
  },
  {
   "cell_type": "code",
   "execution_count": 12,
   "id": "59e7fe16",
   "metadata": {
    "execution": {
     "iopub.execute_input": "2022-05-30T12:36:50.088044Z",
     "iopub.status.busy": "2022-05-30T12:36:50.087336Z",
     "iopub.status.idle": "2022-05-30T12:36:50.093479Z",
     "shell.execute_reply": "2022-05-30T12:36:50.092664Z"
    },
    "papermill": {
     "duration": 0.017293,
     "end_time": "2022-05-30T12:36:50.095592",
     "exception": false,
     "start_time": "2022-05-30T12:36:50.078299",
     "status": "completed"
    },
    "tags": []
   },
   "outputs": [],
   "source": [
    "X_train, X_test,Y_train,Y_test = train_test_split(X,Y,test_size=0.25,random_state=2)"
   ]
  },
  {
   "cell_type": "markdown",
   "id": "8d7e634e",
   "metadata": {
    "papermill": {
     "duration": 0.007586,
     "end_time": "2022-05-30T12:36:50.111041",
     "exception": false,
     "start_time": "2022-05-30T12:36:50.103455",
     "status": "completed"
    },
    "tags": []
   },
   "source": [
    "# Training Model"
   ]
  },
  {
   "cell_type": "code",
   "execution_count": 13,
   "id": "d4760103",
   "metadata": {
    "execution": {
     "iopub.execute_input": "2022-05-30T12:36:50.128807Z",
     "iopub.status.busy": "2022-05-30T12:36:50.128047Z",
     "iopub.status.idle": "2022-05-30T12:36:50.132388Z",
     "shell.execute_reply": "2022-05-30T12:36:50.131676Z"
    },
    "papermill": {
     "duration": 0.015239,
     "end_time": "2022-05-30T12:36:50.134209",
     "exception": false,
     "start_time": "2022-05-30T12:36:50.118970",
     "status": "completed"
    },
    "tags": []
   },
   "outputs": [],
   "source": [
    "model = LogisticRegression(solver='lbfgs', max_iter=1000)"
   ]
  },
  {
   "cell_type": "code",
   "execution_count": 14,
   "id": "a8ee8615",
   "metadata": {
    "execution": {
     "iopub.execute_input": "2022-05-30T12:36:50.152005Z",
     "iopub.status.busy": "2022-05-30T12:36:50.151149Z",
     "iopub.status.idle": "2022-05-30T12:36:50.195849Z",
     "shell.execute_reply": "2022-05-30T12:36:50.195181Z"
    },
    "papermill": {
     "duration": 0.055829,
     "end_time": "2022-05-30T12:36:50.197730",
     "exception": false,
     "start_time": "2022-05-30T12:36:50.141901",
     "status": "completed"
    },
    "tags": []
   },
   "outputs": [
    {
     "data": {
      "text/plain": [
       "LogisticRegression(max_iter=1000)"
      ]
     },
     "execution_count": 14,
     "metadata": {},
     "output_type": "execute_result"
    }
   ],
   "source": [
    "model.fit(X_train, Y_train)"
   ]
  },
  {
   "cell_type": "markdown",
   "id": "7a59dff3",
   "metadata": {
    "papermill": {
     "duration": 0.0074,
     "end_time": "2022-05-30T12:36:50.213072",
     "exception": false,
     "start_time": "2022-05-30T12:36:50.205672",
     "status": "completed"
    },
    "tags": []
   },
   "source": [
    "# Evaluation of Model"
   ]
  },
  {
   "cell_type": "code",
   "execution_count": 15,
   "id": "3edd58c8",
   "metadata": {
    "execution": {
     "iopub.execute_input": "2022-05-30T12:36:50.230573Z",
     "iopub.status.busy": "2022-05-30T12:36:50.229877Z",
     "iopub.status.idle": "2022-05-30T12:36:50.238249Z",
     "shell.execute_reply": "2022-05-30T12:36:50.236967Z"
    },
    "papermill": {
     "duration": 0.019798,
     "end_time": "2022-05-30T12:36:50.240639",
     "exception": false,
     "start_time": "2022-05-30T12:36:50.220841",
     "status": "completed"
    },
    "tags": []
   },
   "outputs": [],
   "source": [
    "X_train_prediction = model.predict(X_train)\n",
    "training_data_accuracy = accuracy_score(X_train_prediction, Y_train) "
   ]
  },
  {
   "cell_type": "code",
   "execution_count": 16,
   "id": "8921fcf3",
   "metadata": {
    "execution": {
     "iopub.execute_input": "2022-05-30T12:36:50.258212Z",
     "iopub.status.busy": "2022-05-30T12:36:50.257572Z",
     "iopub.status.idle": "2022-05-30T12:36:50.263668Z",
     "shell.execute_reply": "2022-05-30T12:36:50.262724Z"
    },
    "papermill": {
     "duration": 0.01754,
     "end_time": "2022-05-30T12:36:50.265982",
     "exception": false,
     "start_time": "2022-05-30T12:36:50.248442",
     "status": "completed"
    },
    "tags": []
   },
   "outputs": [
    {
     "name": "stdout",
     "output_type": "stream",
     "text": [
      "Accuracy on training data :  0.8222222222222222\n"
     ]
    }
   ],
   "source": [
    "print('Accuracy on training data : ', training_data_accuracy)"
   ]
  },
  {
   "cell_type": "code",
   "execution_count": 17,
   "id": "c494563d",
   "metadata": {
    "execution": {
     "iopub.execute_input": "2022-05-30T12:36:50.284102Z",
     "iopub.status.busy": "2022-05-30T12:36:50.283073Z",
     "iopub.status.idle": "2022-05-30T12:36:50.290192Z",
     "shell.execute_reply": "2022-05-30T12:36:50.289431Z"
    },
    "papermill": {
     "duration": 0.0184,
     "end_time": "2022-05-30T12:36:50.292239",
     "exception": false,
     "start_time": "2022-05-30T12:36:50.273839",
     "status": "completed"
    },
    "tags": []
   },
   "outputs": [],
   "source": [
    "X_test_prediction = model.predict(X_test)\n",
    "test_data_accuracy = accuracy_score(X_test_prediction, Y_test)"
   ]
  },
  {
   "cell_type": "code",
   "execution_count": 18,
   "id": "b9c81c1a",
   "metadata": {
    "execution": {
     "iopub.execute_input": "2022-05-30T12:36:50.309598Z",
     "iopub.status.busy": "2022-05-30T12:36:50.309198Z",
     "iopub.status.idle": "2022-05-30T12:36:50.314726Z",
     "shell.execute_reply": "2022-05-30T12:36:50.313197Z"
    },
    "papermill": {
     "duration": 0.016905,
     "end_time": "2022-05-30T12:36:50.316931",
     "exception": false,
     "start_time": "2022-05-30T12:36:50.300026",
     "status": "completed"
    },
    "tags": []
   },
   "outputs": [
    {
     "name": "stdout",
     "output_type": "stream",
     "text": [
      "Accuracy on test data :  0.7833333333333333\n"
     ]
    }
   ],
   "source": [
    "print('Accuracy on test data : ', test_data_accuracy)"
   ]
  },
  {
   "cell_type": "code",
   "execution_count": 19,
   "id": "eedc71c9",
   "metadata": {
    "execution": {
     "iopub.execute_input": "2022-05-30T12:36:50.334457Z",
     "iopub.status.busy": "2022-05-30T12:36:50.334040Z",
     "iopub.status.idle": "2022-05-30T12:36:50.341575Z",
     "shell.execute_reply": "2022-05-30T12:36:50.340561Z"
    },
    "papermill": {
     "duration": 0.019044,
     "end_time": "2022-05-30T12:36:50.343911",
     "exception": false,
     "start_time": "2022-05-30T12:36:50.324867",
     "status": "completed"
    },
    "tags": []
   },
   "outputs": [
    {
     "name": "stdout",
     "output_type": "stream",
     "text": [
      "[1]\n",
      "Loan is approved\n"
     ]
    }
   ],
   "source": [
    "input_data= (1,1,0,1,0,3033,1459.0,94.0,360.0,1.0,2)\n",
    "\n",
    "# changing the input_data to a numpy array\n",
    "input_data_as_numpy_array = np.asarray(input_data)\n",
    "\n",
    "# reshape the np array as we are predicting for one instance\n",
    "input_data_reshaped = input_data_as_numpy_array.reshape(1,-1)\n",
    "\n",
    "prediction = model.predict(input_data_reshaped)\n",
    "print(prediction)\n",
    "\n",
    "\n",
    "if (prediction[0]==1):\n",
    "  print('Loan is approved')\n",
    "else:\n",
    "  print('Loan is not approved')"
   ]
  }
 ],
 "metadata": {
  "kernelspec": {
   "display_name": "Python 3",
   "language": "python",
   "name": "python3"
  },
  "language_info": {
   "codemirror_mode": {
    "name": "ipython",
    "version": 3
   },
   "file_extension": ".py",
   "mimetype": "text/x-python",
   "name": "python",
   "nbconvert_exporter": "python",
   "pygments_lexer": "ipython3",
   "version": "3.7.12"
  },
  "papermill": {
   "default_parameters": {},
   "duration": 13.068171,
   "end_time": "2022-05-30T12:36:51.074424",
   "environment_variables": {},
   "exception": null,
   "input_path": "__notebook__.ipynb",
   "output_path": "__notebook__.ipynb",
   "parameters": {},
   "start_time": "2022-05-30T12:36:38.006253",
   "version": "2.3.4"
  }
 },
 "nbformat": 4,
 "nbformat_minor": 5
}
