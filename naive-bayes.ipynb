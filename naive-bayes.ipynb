{
 "cells": [
  {
   "cell_type": "code",
   "execution_count": 1,
   "id": "0060c1fd",
   "metadata": {
    "_cell_guid": "b1076dfc-b9ad-4769-8c92-a6c4dae69d19",
    "_uuid": "8f2839f25d086af736a60e9eeb907d3b93b6e0e5",
    "execution": {
     "iopub.execute_input": "2022-07-04T02:13:59.685147Z",
     "iopub.status.busy": "2022-07-04T02:13:59.683680Z",
     "iopub.status.idle": "2022-07-04T02:14:00.914964Z",
     "shell.execute_reply": "2022-07-04T02:14:00.913525Z"
    },
    "papermill": {
     "duration": 1.241838,
     "end_time": "2022-07-04T02:14:00.917862",
     "exception": false,
     "start_time": "2022-07-04T02:13:59.676024",
     "status": "completed"
    },
    "tags": []
   },
   "outputs": [],
   "source": [
    "import pandas as pd\n",
    "import numpy as np\n",
    "from sklearn.naive_bayes import GaussianNB"
   ]
  },
  {
   "cell_type": "code",
   "execution_count": 2,
   "id": "31ab7521",
   "metadata": {
    "execution": {
     "iopub.execute_input": "2022-07-04T02:14:00.930374Z",
     "iopub.status.busy": "2022-07-04T02:14:00.929966Z",
     "iopub.status.idle": "2022-07-04T02:14:00.965628Z",
     "shell.execute_reply": "2022-07-04T02:14:00.964444Z"
    },
    "papermill": {
     "duration": 0.045449,
     "end_time": "2022-07-04T02:14:00.968664",
     "exception": false,
     "start_time": "2022-07-04T02:14:00.923215",
     "status": "completed"
    },
    "tags": []
   },
   "outputs": [],
   "source": [
    "dataframe = pd.read_csv(\"../input/titanic/train.csv\")\n",
    "test_dataframe = pd.read_csv(\"../input/titanic/test.csv\")\n",
    "passangerId = test_dataframe[\"PassengerId\"]\n"
   ]
  },
  {
   "cell_type": "code",
   "execution_count": 3,
   "id": "4f7123b8",
   "metadata": {
    "execution": {
     "iopub.execute_input": "2022-07-04T02:14:00.980514Z",
     "iopub.status.busy": "2022-07-04T02:14:00.980110Z",
     "iopub.status.idle": "2022-07-04T02:14:01.015539Z",
     "shell.execute_reply": "2022-07-04T02:14:01.014171Z"
    },
    "papermill": {
     "duration": 0.044473,
     "end_time": "2022-07-04T02:14:01.018165",
     "exception": false,
     "start_time": "2022-07-04T02:14:00.973692",
     "status": "completed"
    },
    "tags": []
   },
   "outputs": [
    {
     "data": {
      "text/html": [
       "<div>\n",
       "<style scoped>\n",
       "    .dataframe tbody tr th:only-of-type {\n",
       "        vertical-align: middle;\n",
       "    }\n",
       "\n",
       "    .dataframe tbody tr th {\n",
       "        vertical-align: top;\n",
       "    }\n",
       "\n",
       "    .dataframe thead th {\n",
       "        text-align: right;\n",
       "    }\n",
       "</style>\n",
       "<table border=\"1\" class=\"dataframe\">\n",
       "  <thead>\n",
       "    <tr style=\"text-align: right;\">\n",
       "      <th></th>\n",
       "      <th>Survived</th>\n",
       "      <th>Pclass</th>\n",
       "      <th>Sex</th>\n",
       "      <th>Age</th>\n",
       "      <th>SibSp</th>\n",
       "      <th>Parch</th>\n",
       "      <th>Fare</th>\n",
       "      <th>Embarked</th>\n",
       "    </tr>\n",
       "  </thead>\n",
       "  <tbody>\n",
       "    <tr>\n",
       "      <th>0</th>\n",
       "      <td>0</td>\n",
       "      <td>3</td>\n",
       "      <td>male</td>\n",
       "      <td>22.0</td>\n",
       "      <td>1</td>\n",
       "      <td>0</td>\n",
       "      <td>7.2500</td>\n",
       "      <td>S</td>\n",
       "    </tr>\n",
       "    <tr>\n",
       "      <th>1</th>\n",
       "      <td>1</td>\n",
       "      <td>1</td>\n",
       "      <td>female</td>\n",
       "      <td>38.0</td>\n",
       "      <td>1</td>\n",
       "      <td>0</td>\n",
       "      <td>71.2833</td>\n",
       "      <td>C</td>\n",
       "    </tr>\n",
       "    <tr>\n",
       "      <th>2</th>\n",
       "      <td>1</td>\n",
       "      <td>3</td>\n",
       "      <td>female</td>\n",
       "      <td>26.0</td>\n",
       "      <td>0</td>\n",
       "      <td>0</td>\n",
       "      <td>7.9250</td>\n",
       "      <td>S</td>\n",
       "    </tr>\n",
       "    <tr>\n",
       "      <th>3</th>\n",
       "      <td>1</td>\n",
       "      <td>1</td>\n",
       "      <td>female</td>\n",
       "      <td>35.0</td>\n",
       "      <td>1</td>\n",
       "      <td>0</td>\n",
       "      <td>53.1000</td>\n",
       "      <td>S</td>\n",
       "    </tr>\n",
       "    <tr>\n",
       "      <th>4</th>\n",
       "      <td>0</td>\n",
       "      <td>3</td>\n",
       "      <td>male</td>\n",
       "      <td>35.0</td>\n",
       "      <td>0</td>\n",
       "      <td>0</td>\n",
       "      <td>8.0500</td>\n",
       "      <td>S</td>\n",
       "    </tr>\n",
       "  </tbody>\n",
       "</table>\n",
       "</div>"
      ],
      "text/plain": [
       "   Survived  Pclass     Sex   Age  SibSp  Parch     Fare Embarked\n",
       "0         0       3    male  22.0      1      0   7.2500        S\n",
       "1         1       1  female  38.0      1      0  71.2833        C\n",
       "2         1       3  female  26.0      0      0   7.9250        S\n",
       "3         1       1  female  35.0      1      0  53.1000        S\n",
       "4         0       3    male  35.0      0      0   8.0500        S"
      ]
     },
     "execution_count": 3,
     "metadata": {},
     "output_type": "execute_result"
    }
   ],
   "source": [
    "# Name, Ticket , Passanger ID have almost no correlation to the outcome\n",
    "\n",
    "final_dataframe= dataframe[['Survived', 'Pclass', 'Sex', 'Age', 'SibSp',\n",
    "       'Parch', 'Fare', 'Embarked']]\n",
    "final_dataframe = final_dataframe.dropna()\n",
    "final_dataframe.head()"
   ]
  },
  {
   "cell_type": "code",
   "execution_count": 4,
   "id": "4bb60305",
   "metadata": {
    "execution": {
     "iopub.execute_input": "2022-07-04T02:14:01.030404Z",
     "iopub.status.busy": "2022-07-04T02:14:01.030014Z",
     "iopub.status.idle": "2022-07-04T02:14:01.039013Z",
     "shell.execute_reply": "2022-07-04T02:14:01.037626Z"
    },
    "papermill": {
     "duration": 0.018227,
     "end_time": "2022-07-04T02:14:01.041607",
     "exception": false,
     "start_time": "2022-07-04T02:14:01.023380",
     "status": "completed"
    },
    "tags": []
   },
   "outputs": [],
   "source": [
    "final_dataframe[\"Sex\"] = final_dataframe[\"Sex\"].replace(to_replace=final_dataframe[\"Sex\"].unique(), value = [1 , 0])"
   ]
  },
  {
   "cell_type": "code",
   "execution_count": 5,
   "id": "5378f005",
   "metadata": {
    "execution": {
     "iopub.execute_input": "2022-07-04T02:14:01.055128Z",
     "iopub.status.busy": "2022-07-04T02:14:01.054687Z",
     "iopub.status.idle": "2022-07-04T02:14:01.068862Z",
     "shell.execute_reply": "2022-07-04T02:14:01.067628Z"
    },
    "papermill": {
     "duration": 0.024783,
     "end_time": "2022-07-04T02:14:01.071749",
     "exception": false,
     "start_time": "2022-07-04T02:14:01.046966",
     "status": "completed"
    },
    "tags": []
   },
   "outputs": [],
   "source": [
    "# One hot encoding\n",
    "final_dataframe = pd.get_dummies(final_dataframe, drop_first=True) "
   ]
  },
  {
   "cell_type": "code",
   "execution_count": 6,
   "id": "ca25ed96",
   "metadata": {
    "execution": {
     "iopub.execute_input": "2022-07-04T02:14:01.084334Z",
     "iopub.status.busy": "2022-07-04T02:14:01.083916Z",
     "iopub.status.idle": "2022-07-04T02:14:01.089899Z",
     "shell.execute_reply": "2022-07-04T02:14:01.088934Z"
    },
    "papermill": {
     "duration": 0.015226,
     "end_time": "2022-07-04T02:14:01.092463",
     "exception": false,
     "start_time": "2022-07-04T02:14:01.077237",
     "status": "completed"
    },
    "tags": []
   },
   "outputs": [],
   "source": [
    "final_test_dataframe =test_dataframe[['Pclass', 'Sex', 'Age', 'SibSp',\n",
    "       'Parch', 'Fare', 'Embarked']].copy()"
   ]
  },
  {
   "cell_type": "code",
   "execution_count": 7,
   "id": "f915c22f",
   "metadata": {
    "execution": {
     "iopub.execute_input": "2022-07-04T02:14:01.105173Z",
     "iopub.status.busy": "2022-07-04T02:14:01.104750Z",
     "iopub.status.idle": "2022-07-04T02:14:01.112128Z",
     "shell.execute_reply": "2022-07-04T02:14:01.110856Z"
    },
    "papermill": {
     "duration": 0.016837,
     "end_time": "2022-07-04T02:14:01.114646",
     "exception": false,
     "start_time": "2022-07-04T02:14:01.097809",
     "status": "completed"
    },
    "tags": []
   },
   "outputs": [],
   "source": [
    "# Fill na values with mean values from corresponding columns\n",
    "\n",
    "age_mean = final_test_dataframe.Age.mean()\n",
    "fare_mean = final_test_dataframe.Fare.mean()\n",
    "final_test_dataframe.fillna({\"Age\":age_mean,\"Fare\":fare_mean},inplace=True)"
   ]
  },
  {
   "cell_type": "code",
   "execution_count": 8,
   "id": "a109a1b8",
   "metadata": {
    "execution": {
     "iopub.execute_input": "2022-07-04T02:14:01.126967Z",
     "iopub.status.busy": "2022-07-04T02:14:01.126254Z",
     "iopub.status.idle": "2022-07-04T02:14:01.138714Z",
     "shell.execute_reply": "2022-07-04T02:14:01.137349Z"
    },
    "papermill": {
     "duration": 0.021553,
     "end_time": "2022-07-04T02:14:01.141370",
     "exception": false,
     "start_time": "2022-07-04T02:14:01.119817",
     "status": "completed"
    },
    "tags": []
   },
   "outputs": [],
   "source": [
    "final_test_dataframe = pd.get_dummies(final_test_dataframe,columns=[\"Embarked\"],drop_first=True) \n",
    "final_test_dataframe[\"Sex\"] = final_test_dataframe[\"Sex\"].replace(to_replace=final_test_dataframe[\"Sex\"].unique(), value = [1 , 0])"
   ]
  },
  {
   "cell_type": "code",
   "execution_count": 9,
   "id": "ccb2d62b",
   "metadata": {
    "execution": {
     "iopub.execute_input": "2022-07-04T02:14:01.153880Z",
     "iopub.status.busy": "2022-07-04T02:14:01.153194Z",
     "iopub.status.idle": "2022-07-04T02:14:01.161717Z",
     "shell.execute_reply": "2022-07-04T02:14:01.160304Z"
    },
    "papermill": {
     "duration": 0.018138,
     "end_time": "2022-07-04T02:14:01.164746",
     "exception": false,
     "start_time": "2022-07-04T02:14:01.146608",
     "status": "completed"
    },
    "tags": []
   },
   "outputs": [],
   "source": [
    "train_y = final_dataframe[\"Survived\"]\n",
    "train_x = final_dataframe[['Pclass', 'Sex', 'Age', 'SibSp',\n",
    "       'Parch', 'Fare', 'Embarked_Q','Embarked_S']]\n",
    "\n",
    "test_x = final_test_dataframe"
   ]
  },
  {
   "cell_type": "code",
   "execution_count": 10,
   "id": "d21426fe",
   "metadata": {
    "execution": {
     "iopub.execute_input": "2022-07-04T02:14:01.177170Z",
     "iopub.status.busy": "2022-07-04T02:14:01.176779Z",
     "iopub.status.idle": "2022-07-04T02:14:01.250106Z",
     "shell.execute_reply": "2022-07-04T02:14:01.248755Z"
    },
    "papermill": {
     "duration": 0.082842,
     "end_time": "2022-07-04T02:14:01.252973",
     "exception": false,
     "start_time": "2022-07-04T02:14:01.170131",
     "status": "completed"
    },
    "tags": []
   },
   "outputs": [],
   "source": [
    "from sklearn.model_selection import train_test_split\n",
    "\n",
    "train_data, val_data, train_target, val_target = train_test_split(train_x,train_y, train_size=0.8)"
   ]
  },
  {
   "cell_type": "code",
   "execution_count": 11,
   "id": "b2b920b8",
   "metadata": {
    "execution": {
     "iopub.execute_input": "2022-07-04T02:14:01.266257Z",
     "iopub.status.busy": "2022-07-04T02:14:01.265822Z",
     "iopub.status.idle": "2022-07-04T02:14:01.277282Z",
     "shell.execute_reply": "2022-07-04T02:14:01.276065Z"
    },
    "papermill": {
     "duration": 0.021401,
     "end_time": "2022-07-04T02:14:01.279885",
     "exception": false,
     "start_time": "2022-07-04T02:14:01.258484",
     "status": "completed"
    },
    "tags": []
   },
   "outputs": [],
   "source": [
    "model = GaussianNB()\n",
    "model.fit(train_data,train_target)\n",
    "val_pred= model.predict(val_data)"
   ]
  },
  {
   "cell_type": "code",
   "execution_count": 12,
   "id": "a8bc2d9c",
   "metadata": {
    "execution": {
     "iopub.execute_input": "2022-07-04T02:14:01.292544Z",
     "iopub.status.busy": "2022-07-04T02:14:01.291706Z",
     "iopub.status.idle": "2022-07-04T02:14:01.298220Z",
     "shell.execute_reply": "2022-07-04T02:14:01.297349Z"
    },
    "papermill": {
     "duration": 0.015621,
     "end_time": "2022-07-04T02:14:01.300667",
     "exception": false,
     "start_time": "2022-07-04T02:14:01.285046",
     "status": "completed"
    },
    "tags": []
   },
   "outputs": [
    {
     "name": "stdout",
     "output_type": "stream",
     "text": [
      "Model accuracy score: 0.7692\n"
     ]
    }
   ],
   "source": [
    "from sklearn.metrics import accuracy_score\n",
    "\n",
    "print('Model accuracy score: {0:0.4f}'. format(accuracy_score(val_target, val_pred)))"
   ]
  },
  {
   "cell_type": "code",
   "execution_count": 13,
   "id": "9eea0e88",
   "metadata": {
    "execution": {
     "iopub.execute_input": "2022-07-04T02:14:01.312996Z",
     "iopub.status.busy": "2022-07-04T02:14:01.312595Z",
     "iopub.status.idle": "2022-07-04T02:14:01.323638Z",
     "shell.execute_reply": "2022-07-04T02:14:01.322574Z"
    },
    "papermill": {
     "duration": 0.020615,
     "end_time": "2022-07-04T02:14:01.326424",
     "exception": false,
     "start_time": "2022-07-04T02:14:01.305809",
     "status": "completed"
    },
    "tags": []
   },
   "outputs": [],
   "source": [
    "model = GaussianNB()\n",
    "\n",
    "# Train model\n",
    "model.fit(train_x, train_y)\n",
    "\n",
    "#Get predicitions from test data\n",
    "predictions = model.predict(test_x)"
   ]
  },
  {
   "cell_type": "code",
   "execution_count": 14,
   "id": "1a8191dc",
   "metadata": {
    "execution": {
     "iopub.execute_input": "2022-07-04T02:14:01.338664Z",
     "iopub.status.busy": "2022-07-04T02:14:01.338241Z",
     "iopub.status.idle": "2022-07-04T02:14:01.347492Z",
     "shell.execute_reply": "2022-07-04T02:14:01.346519Z"
    },
    "papermill": {
     "duration": 0.01844,
     "end_time": "2022-07-04T02:14:01.350128",
     "exception": false,
     "start_time": "2022-07-04T02:14:01.331688",
     "status": "completed"
    },
    "tags": []
   },
   "outputs": [],
   "source": [
    "results = pd.DataFrame({\"PassengerId\":passangerId,\"Survived\":predictions})\n",
    "results.to_csv(\"submissions.csv\",index=False)"
   ]
  },
  {
   "cell_type": "code",
   "execution_count": null,
   "id": "b660861a",
   "metadata": {
    "papermill": {
     "duration": 0.004931,
     "end_time": "2022-07-04T02:14:01.360298",
     "exception": false,
     "start_time": "2022-07-04T02:14:01.355367",
     "status": "completed"
    },
    "tags": []
   },
   "outputs": [],
   "source": []
  }
 ],
 "metadata": {
  "kernelspec": {
   "display_name": "Python 3",
   "language": "python",
   "name": "python3"
  },
  "language_info": {
   "codemirror_mode": {
    "name": "ipython",
    "version": 3
   },
   "file_extension": ".py",
   "mimetype": "text/x-python",
   "name": "python",
   "nbconvert_exporter": "python",
   "pygments_lexer": "ipython3",
   "version": "3.7.12"
  },
  "papermill": {
   "default_parameters": {},
   "duration": 13.296155,
   "end_time": "2022-07-04T02:14:02.188265",
   "environment_variables": {},
   "exception": null,
   "input_path": "__notebook__.ipynb",
   "output_path": "__notebook__.ipynb",
   "parameters": {},
   "start_time": "2022-07-04T02:13:48.892110",
   "version": "2.3.4"
  }
 },
 "nbformat": 4,
 "nbformat_minor": 5
}
