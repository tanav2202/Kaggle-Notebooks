{
 "cells": [
  {
   "cell_type": "code",
   "execution_count": 1,
   "id": "e0310ae1",
   "metadata": {
    "_cell_guid": "b1076dfc-b9ad-4769-8c92-a6c4dae69d19",
    "_uuid": "8f2839f25d086af736a60e9eeb907d3b93b6e0e5",
    "execution": {
     "iopub.execute_input": "2022-06-13T03:59:03.952967Z",
     "iopub.status.busy": "2022-06-13T03:59:03.952417Z",
     "iopub.status.idle": "2022-06-13T03:59:03.962815Z",
     "shell.execute_reply": "2022-06-13T03:59:03.961877Z"
    },
    "papermill": {
     "duration": 0.019207,
     "end_time": "2022-06-13T03:59:03.964800",
     "exception": false,
     "start_time": "2022-06-13T03:59:03.945593",
     "status": "completed"
    },
    "tags": []
   },
   "outputs": [],
   "source": [
    "import numpy as np\n",
    "import matplotlib.pyplot as plt"
   ]
  },
  {
   "cell_type": "markdown",
   "id": "24e810dd",
   "metadata": {
    "papermill": {
     "duration": 0.003505,
     "end_time": "2022-06-13T03:59:03.974375",
     "exception": false,
     "start_time": "2022-06-13T03:59:03.970870",
     "status": "completed"
    },
    "tags": []
   },
   "source": [
    "# Generating Random Dataset and Plotting the Points"
   ]
  },
  {
   "cell_type": "code",
   "execution_count": 2,
   "id": "3268862a",
   "metadata": {
    "execution": {
     "iopub.execute_input": "2022-06-13T03:59:03.983387Z",
     "iopub.status.busy": "2022-06-13T03:59:03.982679Z",
     "iopub.status.idle": "2022-06-13T03:59:04.198501Z",
     "shell.execute_reply": "2022-06-13T03:59:04.197506Z"
    },
    "papermill": {
     "duration": 0.223641,
     "end_time": "2022-06-13T03:59:04.201523",
     "exception": false,
     "start_time": "2022-06-13T03:59:03.977882",
     "status": "completed"
    },
    "tags": []
   },
   "outputs": [
    {
     "data": {
      "image/png": "[encoded data removed]",
      "text/plain": [
       "<Figure size 432x288 with 1 Axes>"
      ]
     },
     "metadata": {
      "needs_background": "light"
     },
     "output_type": "display_data"
    }
   ],
   "source": [
    "np.random.seed(7)\n",
    "x = np.random.rand(100, 1)\n",
    "y = 13 + 3 * x + np.random.rand(100, 1)\n",
    "\n",
    "# plot\n",
    "plt.scatter(x,y,s=10)\n",
    "plt.xlabel('x')\n",
    "plt.ylabel('y')\n",
    "plt.show()\n"
   ]
  },
  {
   "cell_type": "markdown",
   "id": "12c6e4be",
   "metadata": {
    "papermill": {
     "duration": 0.004176,
     "end_time": "2022-06-13T03:59:04.210385",
     "exception": false,
     "start_time": "2022-06-13T03:59:04.206209",
     "status": "completed"
    },
    "tags": []
   },
   "source": [
    "# Train Test Split"
   ]
  },
  {
   "cell_type": "code",
   "execution_count": 3,
   "id": "4ab6f93d",
   "metadata": {
    "execution": {
     "iopub.execute_input": "2022-06-13T03:59:04.219894Z",
     "iopub.status.busy": "2022-06-13T03:59:04.219518Z",
     "iopub.status.idle": "2022-06-13T03:59:05.217249Z",
     "shell.execute_reply": "2022-06-13T03:59:05.216526Z"
    },
    "papermill": {
     "duration": 1.005057,
     "end_time": "2022-06-13T03:59:05.219315",
     "exception": false,
     "start_time": "2022-06-13T03:59:04.214258",
     "status": "completed"
    },
    "tags": []
   },
   "outputs": [],
   "source": [
    "from sklearn import model_selection\n",
    "X_train, X_test, Y_train, Y_test = model_selection.train_test_split(x, y, test_size=0.3)\n",
    "\n"
   ]
  },
  {
   "cell_type": "markdown",
   "id": "ba04e946",
   "metadata": {
    "papermill": {
     "duration": 0.003367,
     "end_time": "2022-06-13T03:59:05.226559",
     "exception": false,
     "start_time": "2022-06-13T03:59:05.223192",
     "status": "completed"
    },
    "tags": []
   },
   "source": [
    "# Fit the Model \n",
    "## Getting Values of m and c from the model"
   ]
  },
  {
   "cell_type": "code",
   "execution_count": 4,
   "id": "b757323e",
   "metadata": {
    "execution": {
     "iopub.execute_input": "2022-06-13T03:59:05.235556Z",
     "iopub.status.busy": "2022-06-13T03:59:05.235062Z",
     "iopub.status.idle": "2022-06-13T03:59:05.239644Z",
     "shell.execute_reply": "2022-06-13T03:59:05.238882Z"
    },
    "papermill": {
     "duration": 0.011178,
     "end_time": "2022-06-13T03:59:05.241398",
     "exception": false,
     "start_time": "2022-06-13T03:59:05.230220",
     "status": "completed"
    },
    "tags": []
   },
   "outputs": [],
   "source": [
    "def fit(X_train, Y_train):\n",
    "   numerator = (X_train * Y_train).mean() - X_train.mean() * Y_train.mean()\n",
    "   denominator = (X_train ** 2).mean() - X_train.mean() ** 2\n",
    "   m = numerator / denominator\n",
    "   c = Y_train.mean() - m * X_train.mean()\n",
    "   return m, c\n"
   ]
  },
  {
   "cell_type": "markdown",
   "id": "3d8d9c8f",
   "metadata": {
    "papermill": {
     "duration": 0.003672,
     "end_time": "2022-06-13T03:59:05.248805",
     "exception": false,
     "start_time": "2022-06-13T03:59:05.245133",
     "status": "completed"
    },
    "tags": []
   },
   "source": [
    "# Predicting Values using m and c"
   ]
  },
  {
   "cell_type": "code",
   "execution_count": 5,
   "id": "531da1c5",
   "metadata": {
    "execution": {
     "iopub.execute_input": "2022-06-13T03:59:05.257520Z",
     "iopub.status.busy": "2022-06-13T03:59:05.257030Z",
     "iopub.status.idle": "2022-06-13T03:59:05.260571Z",
     "shell.execute_reply": "2022-06-13T03:59:05.259965Z"
    },
    "papermill": {
     "duration": 0.009799,
     "end_time": "2022-06-13T03:59:05.262142",
     "exception": false,
     "start_time": "2022-06-13T03:59:05.252343",
     "status": "completed"
    },
    "tags": []
   },
   "outputs": [],
   "source": [
    "def predict(X_test, m, c):\n",
    "   Y_pred = m * X_test + c\n",
    "   return Y_pred\n"
   ]
  },
  {
   "cell_type": "code",
   "execution_count": 6,
   "id": "ba949457",
   "metadata": {
    "execution": {
     "iopub.execute_input": "2022-06-13T03:59:05.270924Z",
     "iopub.status.busy": "2022-06-13T03:59:05.270482Z",
     "iopub.status.idle": "2022-06-13T03:59:05.274865Z",
     "shell.execute_reply": "2022-06-13T03:59:05.274171Z"
    },
    "papermill": {
     "duration": 0.010866,
     "end_time": "2022-06-13T03:59:05.276675",
     "exception": false,
     "start_time": "2022-06-13T03:59:05.265809",
     "status": "completed"
    },
    "tags": []
   },
   "outputs": [
    {
     "name": "stdout",
     "output_type": "stream",
     "text": [
      "The value of m and c are: 3.179373534213082 13.345249192874231\n"
     ]
    }
   ],
   "source": [
    "m, c = fit(X_train, Y_train)\n",
    "y_pred = predict(X_test, m, c)\n",
    "print(\"The value of m and c are:\", m, c)\n"
   ]
  },
  {
   "cell_type": "markdown",
   "id": "6e278ff1",
   "metadata": {
    "papermill": {
     "duration": 0.003564,
     "end_time": "2022-06-13T03:59:05.284069",
     "exception": false,
     "start_time": "2022-06-13T03:59:05.280505",
     "status": "completed"
    },
    "tags": []
   },
   "source": [
    "# Calculating the accuracy score of the dataset"
   ]
  },
  {
   "cell_type": "code",
   "execution_count": 7,
   "id": "88e8a176",
   "metadata": {
    "execution": {
     "iopub.execute_input": "2022-06-13T03:59:05.293222Z",
     "iopub.status.busy": "2022-06-13T03:59:05.292697Z",
     "iopub.status.idle": "2022-06-13T03:59:05.296949Z",
     "shell.execute_reply": "2022-06-13T03:59:05.296326Z"
    },
    "papermill": {
     "duration": 0.01072,
     "end_time": "2022-06-13T03:59:05.298606",
     "exception": false,
     "start_time": "2022-06-13T03:59:05.287886",
     "status": "completed"
    },
    "tags": []
   },
   "outputs": [],
   "source": [
    "def score(Y_test, Y_pred):\n",
    "   u = ((Y_test - Y_pred) ** 2).sum()\n",
    "   v = ((Y_test - Y_test.mean()) ** 2).sum()\n",
    "   r2 = 1 - u / v\n",
    "   return r2"
   ]
  },
  {
   "cell_type": "code",
   "execution_count": 8,
   "id": "2af3ef3c",
   "metadata": {
    "execution": {
     "iopub.execute_input": "2022-06-13T03:59:05.307885Z",
     "iopub.status.busy": "2022-06-13T03:59:05.307370Z",
     "iopub.status.idle": "2022-06-13T03:59:05.313136Z",
     "shell.execute_reply": "2022-06-13T03:59:05.312314Z"
    },
    "papermill": {
     "duration": 0.012663,
     "end_time": "2022-06-13T03:59:05.315100",
     "exception": false,
     "start_time": "2022-06-13T03:59:05.302437",
     "status": "completed"
    },
    "tags": []
   },
   "outputs": [
    {
     "data": {
      "text/plain": [
       "0.9019146151426827"
      ]
     },
     "execution_count": 8,
     "metadata": {},
     "output_type": "execute_result"
    }
   ],
   "source": [
    "score(Y_test, y_pred)"
   ]
  },
  {
   "cell_type": "markdown",
   "id": "2f43da7d",
   "metadata": {
    "papermill": {
     "duration": 0.003554,
     "end_time": "2022-06-13T03:59:05.322696",
     "exception": false,
     "start_time": "2022-06-13T03:59:05.319142",
     "status": "completed"
    },
    "tags": []
   },
   "source": [
    "# Linear Regression Using Sklearn"
   ]
  },
  {
   "cell_type": "code",
   "execution_count": 9,
   "id": "94517370",
   "metadata": {
    "execution": {
     "iopub.execute_input": "2022-06-13T03:59:05.332898Z",
     "iopub.status.busy": "2022-06-13T03:59:05.332172Z",
     "iopub.status.idle": "2022-06-13T03:59:05.417643Z",
     "shell.execute_reply": "2022-06-13T03:59:05.416704Z"
    },
    "papermill": {
     "duration": 0.092902,
     "end_time": "2022-06-13T03:59:05.419656",
     "exception": false,
     "start_time": "2022-06-13T03:59:05.326754",
     "status": "completed"
    },
    "tags": []
   },
   "outputs": [
    {
     "data": {
      "text/plain": [
       "LinearRegression()"
      ]
     },
     "execution_count": 9,
     "metadata": {},
     "output_type": "execute_result"
    }
   ],
   "source": [
    "from sklearn.linear_model import LinearRegression\n",
    "lm = LinearRegression()\n",
    "lm.fit(X_train, Y_train)"
   ]
  },
  {
   "cell_type": "code",
   "execution_count": 10,
   "id": "54d77a54",
   "metadata": {
    "execution": {
     "iopub.execute_input": "2022-06-13T03:59:05.428736Z",
     "iopub.status.busy": "2022-06-13T03:59:05.428373Z",
     "iopub.status.idle": "2022-06-13T03:59:05.434784Z",
     "shell.execute_reply": "2022-06-13T03:59:05.434008Z"
    },
    "papermill": {
     "duration": 0.014088,
     "end_time": "2022-06-13T03:59:05.437627",
     "exception": false,
     "start_time": "2022-06-13T03:59:05.423539",
     "status": "completed"
    },
    "tags": []
   },
   "outputs": [
    {
     "name": "stdout",
     "output_type": "stream",
     "text": [
      "0.9019146151426825\n",
      "0.8842863198257054\n"
     ]
    }
   ],
   "source": [
    "Y_pred = lm.predict(X_test)\n",
    "print(lm.score(X_test, Y_test))\n",
    "print(lm.score(X_train,Y_train))"
   ]
  },
  {
   "cell_type": "code",
   "execution_count": null,
   "id": "9b1899c8",
   "metadata": {
    "papermill": {
     "duration": 0.003724,
     "end_time": "2022-06-13T03:59:05.446520",
     "exception": false,
     "start_time": "2022-06-13T03:59:05.442796",
     "status": "completed"
    },
    "tags": []
   },
   "outputs": [],
   "source": []
  }
 ],
 "metadata": {
  "kernelspec": {
   "display_name": "Python 3",
   "language": "python",
   "name": "python3"
  },
  "language_info": {
   "codemirror_mode": {
    "name": "ipython",
    "version": 3
   },
   "file_extension": ".py",
   "mimetype": "text/x-python",
   "name": "python",
   "nbconvert_exporter": "python",
   "pygments_lexer": "ipython3",
   "version": "3.7.12"
  },
  "papermill": {
   "default_parameters": {},
   "duration": 10.181486,
   "end_time": "2022-06-13T03:59:06.069605",
   "environment_variables": {},
   "exception": null,
   "input_path": "__notebook__.ipynb",
   "output_path": "__notebook__.ipynb",
   "parameters": {},
   "start_time": "2022-06-13T03:58:55.888119",
   "version": "2.3.4"
  }
 },
 "nbformat": 4,
 "nbformat_minor": 5
}
