{
 "cells": [
  {
   "cell_type": "code",
   "execution_count": 1,
   "id": "cbbb887e",
   "metadata": {
    "_cell_guid": "b1076dfc-b9ad-4769-8c92-a6c4dae69d19",
    "_uuid": "8f2839f25d086af736a60e9eeb907d3b93b6e0e5",
    "execution": {
     "iopub.execute_input": "2022-06-27T02:22:25.050438Z",
     "iopub.status.busy": "2022-06-27T02:22:25.049870Z",
     "iopub.status.idle": "2022-06-27T02:22:25.063543Z",
     "shell.execute_reply": "2022-06-27T02:22:25.062332Z"
    },
    "papermill": {
     "duration": 0.022941,
     "end_time": "2022-06-27T02:22:25.066156",
     "exception": false,
     "start_time": "2022-06-27T02:22:25.043215",
     "status": "completed"
    },
    "tags": []
   },
   "outputs": [],
   "source": [
    "import numpy as np # linear algebra\n",
    "import pandas as pd # data processing, CSV file I/O (e.g. pd.read_csv)\n",
    "import matplotlib.pyplot as plt"
   ]
  },
  {
   "cell_type": "code",
   "execution_count": 2,
   "id": "d1725d27",
   "metadata": {
    "execution": {
     "iopub.execute_input": "2022-06-27T02:22:25.075247Z",
     "iopub.status.busy": "2022-06-27T02:22:25.074458Z",
     "iopub.status.idle": "2022-06-27T02:22:25.081744Z",
     "shell.execute_reply": "2022-06-27T02:22:25.080526Z"
    },
    "papermill": {
     "duration": 0.014098,
     "end_time": "2022-06-27T02:22:25.083957",
     "exception": false,
     "start_time": "2022-06-27T02:22:25.069859",
     "status": "completed"
    },
    "tags": []
   },
   "outputs": [],
   "source": [
    "np.random.seed(69)\n",
    "x = 2 - 3 * np.random.normal(0, 1, 20)\n",
    "y = x - 2 * (x ** 2) + 0.5 * (x ** 3) + np.random.normal(-3, 3, 20)\n",
    "x = x[:, np.newaxis]\n",
    "y = y[:, np.newaxis]"
   ]
  },
  {
   "cell_type": "code",
   "execution_count": 3,
   "id": "2349c6f5",
   "metadata": {
    "execution": {
     "iopub.execute_input": "2022-06-27T02:22:25.092570Z",
     "iopub.status.busy": "2022-06-27T02:22:25.092085Z",
     "iopub.status.idle": "2022-06-27T02:22:25.329921Z",
     "shell.execute_reply": "2022-06-27T02:22:25.328498Z"
    },
    "papermill": {
     "duration": 0.245985,
     "end_time": "2022-06-27T02:22:25.333448",
     "exception": false,
     "start_time": "2022-06-27T02:22:25.087463",
     "status": "completed"
    },
    "tags": []
   },
   "outputs": [
    {
     "data": {
      "image/png": "[encoded data removed]",
      "text/plain": [
       "<Figure size 432x288 with 1 Axes>"
      ]
     },
     "metadata": {
      "needs_background": "light"
     },
     "output_type": "display_data"
    }
   ],
   "source": [
    "plt.scatter(x,y)\n",
    "plt.show()"
   ]
  },
  {
   "cell_type": "code",
   "execution_count": 4,
   "id": "b277d2d9",
   "metadata": {
    "execution": {
     "iopub.execute_input": "2022-06-27T02:22:25.342882Z",
     "iopub.status.busy": "2022-06-27T02:22:25.342458Z",
     "iopub.status.idle": "2022-06-27T02:22:26.926328Z",
     "shell.execute_reply": "2022-06-27T02:22:26.924945Z"
    },
    "papermill": {
     "duration": 1.591557,
     "end_time": "2022-06-27T02:22:26.928971",
     "exception": false,
     "start_time": "2022-06-27T02:22:25.337414",
     "status": "completed"
    },
    "tags": []
   },
   "outputs": [
    {
     "data": {
      "image/png": "[encoded data removed]",
      "text/plain": [
       "<Figure size 432x288 with 1 Axes>"
      ]
     },
     "metadata": {
      "needs_background": "light"
     },
     "output_type": "display_data"
    }
   ],
   "source": [
    "from sklearn.linear_model import LinearRegression\n",
    "from sklearn.metrics import mean_squared_error\n",
    "\n",
    "\n",
    "model = LinearRegression()\n",
    "model.fit(x, y)\n",
    "y_pred = model.predict(x)\n",
    "z=x\n",
    "plt.scatter(x, y, s=10)\n",
    "plt.plot(x, y_pred, color='r')\n",
    "plt.show()"
   ]
  },
  {
   "cell_type": "code",
   "execution_count": 5,
   "id": "077352bb",
   "metadata": {
    "execution": {
     "iopub.execute_input": "2022-06-27T02:22:26.938587Z",
     "iopub.status.busy": "2022-06-27T02:22:26.938124Z",
     "iopub.status.idle": "2022-06-27T02:22:26.944941Z",
     "shell.execute_reply": "2022-06-27T02:22:26.943561Z"
    },
    "papermill": {
     "duration": 0.014506,
     "end_time": "2022-06-27T02:22:26.947389",
     "exception": false,
     "start_time": "2022-06-27T02:22:26.932883",
     "status": "completed"
    },
    "tags": []
   },
   "outputs": [
    {
     "name": "stdout",
     "output_type": "stream",
     "text": [
      "24.188793024005992\n"
     ]
    }
   ],
   "source": [
    "rmse = np.sqrt(mean_squared_error(y,y_pred))\n",
    "print(rmse)"
   ]
  },
  {
   "cell_type": "code",
   "execution_count": 6,
   "id": "2e50c9d3",
   "metadata": {
    "execution": {
     "iopub.execute_input": "2022-06-27T02:22:26.957368Z",
     "iopub.status.busy": "2022-06-27T02:22:26.956954Z",
     "iopub.status.idle": "2022-06-27T02:22:26.967836Z",
     "shell.execute_reply": "2022-06-27T02:22:26.966756Z"
    },
    "papermill": {
     "duration": 0.01856,
     "end_time": "2022-06-27T02:22:26.970009",
     "exception": false,
     "start_time": "2022-06-27T02:22:26.951449",
     "status": "completed"
    },
    "tags": []
   },
   "outputs": [],
   "source": [
    "from sklearn.preprocessing import PolynomialFeatures\n",
    "polynomial_features= PolynomialFeatures(degree=2)\n",
    "x_poly = polynomial_features.fit_transform(x)\n",
    "\n",
    "model = LinearRegression()\n",
    "model.fit(x_poly, y)\n",
    "y_poly_pred = model.predict(x_poly)"
   ]
  },
  {
   "cell_type": "code",
   "execution_count": 7,
   "id": "0895f846",
   "metadata": {
    "execution": {
     "iopub.execute_input": "2022-06-27T02:22:26.980721Z",
     "iopub.status.busy": "2022-06-27T02:22:26.979871Z",
     "iopub.status.idle": "2022-06-27T02:22:26.989132Z",
     "shell.execute_reply": "2022-06-27T02:22:26.987617Z"
    },
    "papermill": {
     "duration": 0.018146,
     "end_time": "2022-06-27T02:22:26.992511",
     "exception": false,
     "start_time": "2022-06-27T02:22:26.974365",
     "status": "completed"
    },
    "tags": []
   },
   "outputs": [
    {
     "name": "stdout",
     "output_type": "stream",
     "text": [
      "9.512107126449079\n"
     ]
    }
   ],
   "source": [
    "from sklearn.metrics import r2_score\n",
    "rmse = np.sqrt(mean_squared_error(y,y_poly_pred))\n",
    "r2 = r2_score(y,y_poly_pred)\n",
    "print(rmse)"
   ]
  },
  {
   "cell_type": "code",
   "execution_count": 8,
   "id": "a36b10d8",
   "metadata": {
    "execution": {
     "iopub.execute_input": "2022-06-27T02:22:27.003606Z",
     "iopub.status.busy": "2022-06-27T02:22:27.002736Z",
     "iopub.status.idle": "2022-06-27T02:22:27.196380Z",
     "shell.execute_reply": "2022-06-27T02:22:27.195248Z"
    },
    "papermill": {
     "duration": 0.201826,
     "end_time": "2022-06-27T02:22:27.198903",
     "exception": false,
     "start_time": "2022-06-27T02:22:26.997077",
     "status": "completed"
    },
    "tags": []
   },
   "outputs": [
    {
     "data": {
      "image/png": "[encoded data removed]",
      "text/plain": [
       "<Figure size 432x288 with 1 Axes>"
      ]
     },
     "metadata": {
      "needs_background": "light"
     },
     "output_type": "display_data"
    }
   ],
   "source": [
    "import operator\n",
    "plt.scatter(x, y, s=10)\n",
    "# sort the values of x before line plot\n",
    "sort_axis = operator.itemgetter(0)\n",
    "sorted_zip = sorted(zip(x,y_poly_pred), key=sort_axis)\n",
    "x, y_poly_pred = zip(*sorted_zip)\n",
    "plt.plot(x, y_poly_pred, color='m')\n",
    "plt.plot(z, y_pred, color='r')\n",
    "plt.show()"
   ]
  },
  {
   "cell_type": "code",
   "execution_count": null,
   "id": "a7dc2c84",
   "metadata": {
    "papermill": {
     "duration": 0.003983,
     "end_time": "2022-06-27T02:22:27.207368",
     "exception": false,
     "start_time": "2022-06-27T02:22:27.203385",
     "status": "completed"
    },
    "tags": []
   },
   "outputs": [],
   "source": []
  }
 ],
 "metadata": {
  "kernelspec": {
   "display_name": "Python 3",
   "language": "python",
   "name": "python3"
  },
  "language_info": {
   "codemirror_mode": {
    "name": "ipython",
    "version": 3
   },
   "file_extension": ".py",
   "mimetype": "text/x-python",
   "name": "python",
   "nbconvert_exporter": "python",
   "pygments_lexer": "ipython3",
   "version": "3.7.12"
  },
  "papermill": {
   "default_parameters": {},
   "duration": 13.692952,
   "end_time": "2022-06-27T02:22:28.236031",
   "environment_variables": {},
   "exception": null,
   "input_path": "__notebook__.ipynb",
   "output_path": "__notebook__.ipynb",
   "parameters": {},
   "start_time": "2022-06-27T02:22:14.543079",
   "version": "2.3.4"
  }
 },
 "nbformat": 4,
 "nbformat_minor": 5
}
