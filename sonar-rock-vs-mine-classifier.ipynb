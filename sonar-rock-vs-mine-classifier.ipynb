{
 "cells": [
  {
   "cell_type": "markdown",
   "id": "9b0447f4",
   "metadata": {
    "papermill": {
     "duration": 0.011904,
     "end_time": "2022-05-30T05:08:07.592367",
     "exception": false,
     "start_time": "2022-05-30T05:08:07.580463",
     "status": "completed"
    },
    "tags": []
   },
   "source": [
    "# Importing Python Modules"
   ]
  },
  {
   "cell_type": "code",
   "execution_count": 1,
   "id": "c835f049",
   "metadata": {
    "execution": {
     "iopub.execute_input": "2022-05-30T05:08:07.618081Z",
     "iopub.status.busy": "2022-05-30T05:08:07.613254Z",
     "iopub.status.idle": "2022-05-30T05:08:08.838326Z",
     "shell.execute_reply": "2022-05-30T05:08:08.837210Z"
    },
    "papermill": {
     "duration": 1.241528,
     "end_time": "2022-05-30T05:08:08.841077",
     "exception": false,
     "start_time": "2022-05-30T05:08:07.599549",
     "status": "completed"
    },
    "tags": []
   },
   "outputs": [],
   "source": [
    "import numpy as np\n",
    "import pandas as pd\n",
    "from sklearn.model_selection import train_test_split\n",
    "from sklearn.linear_model import LogisticRegression\n",
    "from sklearn.metrics import accuracy_score"
   ]
  },
  {
   "cell_type": "markdown",
   "id": "f0cd46aa",
   "metadata": {
    "papermill": {
     "duration": 0.005944,
     "end_time": "2022-05-30T05:08:08.853347",
     "exception": false,
     "start_time": "2022-05-30T05:08:08.847403",
     "status": "completed"
    },
    "tags": []
   },
   "source": [
    "# Reading Data"
   ]
  },
  {
   "cell_type": "code",
   "execution_count": 2,
   "id": "f366bbed",
   "metadata": {
    "execution": {
     "iopub.execute_input": "2022-05-30T05:08:08.867862Z",
     "iopub.status.busy": "2022-05-30T05:08:08.867416Z",
     "iopub.status.idle": "2022-05-30T05:08:08.899334Z",
     "shell.execute_reply": "2022-05-30T05:08:08.898379Z"
    },
    "papermill": {
     "duration": 0.041819,
     "end_time": "2022-05-30T05:08:08.901779",
     "exception": false,
     "start_time": "2022-05-30T05:08:08.859960",
     "status": "completed"
    },
    "tags": []
   },
   "outputs": [],
   "source": [
    "sonar_data = pd.read_csv('../input/connectionist-bench-sonar-mines-vs-rocks/sonar.all-data.csv', header=None)"
   ]
  },
  {
   "cell_type": "markdown",
   "id": "4418bd94",
   "metadata": {
    "papermill": {
     "duration": 0.006,
     "end_time": "2022-05-30T05:08:08.914375",
     "exception": false,
     "start_time": "2022-05-30T05:08:08.908375",
     "status": "completed"
    },
    "tags": []
   },
   "source": [
    "# Data Preprocessing "
   ]
  },
  {
   "cell_type": "code",
   "execution_count": 3,
   "id": "89a3488d",
   "metadata": {
    "execution": {
     "iopub.execute_input": "2022-05-30T05:08:08.928738Z",
     "iopub.status.busy": "2022-05-30T05:08:08.928007Z",
     "iopub.status.idle": "2022-05-30T05:08:09.053886Z",
     "shell.execute_reply": "2022-05-30T05:08:09.052687Z"
    },
    "papermill": {
     "duration": 0.135608,
     "end_time": "2022-05-30T05:08:09.056277",
     "exception": false,
     "start_time": "2022-05-30T05:08:08.920669",
     "status": "completed"
    },
    "tags": []
   },
   "outputs": [
    {
     "data": {
      "text/html": [
       "<div>\n",
       "<style scoped>\n",
       "    .dataframe tbody tr th:only-of-type {\n",
       "        vertical-align: middle;\n",
       "    }\n",
       "\n",
       "    .dataframe tbody tr th {\n",
       "        vertical-align: top;\n",
       "    }\n",
       "\n",
       "    .dataframe thead th {\n",
       "        text-align: right;\n",
       "    }\n",
       "</style>\n",
       "<table border=\"1\" class=\"dataframe\">\n",
       "  <thead>\n",
       "    <tr style=\"text-align: right;\">\n",
       "      <th></th>\n",
       "      <th>0</th>\n",
       "      <th>1</th>\n",
       "      <th>2</th>\n",
       "      <th>3</th>\n",
       "      <th>4</th>\n",
       "      <th>5</th>\n",
       "      <th>6</th>\n",
       "      <th>7</th>\n",
       "      <th>8</th>\n",
       "      <th>9</th>\n",
       "      <th>...</th>\n",
       "      <th>51</th>\n",
       "      <th>52</th>\n",
       "      <th>53</th>\n",
       "      <th>54</th>\n",
       "      <th>55</th>\n",
       "      <th>56</th>\n",
       "      <th>57</th>\n",
       "      <th>58</th>\n",
       "      <th>59</th>\n",
       "      <th>60</th>\n",
       "    </tr>\n",
       "  </thead>\n",
       "  <tbody>\n",
       "    <tr>\n",
       "      <th>count</th>\n",
       "      <td>209</td>\n",
       "      <td>209</td>\n",
       "      <td>209</td>\n",
       "      <td>209</td>\n",
       "      <td>209</td>\n",
       "      <td>209</td>\n",
       "      <td>209</td>\n",
       "      <td>209</td>\n",
       "      <td>209</td>\n",
       "      <td>209</td>\n",
       "      <td>...</td>\n",
       "      <td>209</td>\n",
       "      <td>209</td>\n",
       "      <td>209</td>\n",
       "      <td>209</td>\n",
       "      <td>209</td>\n",
       "      <td>209</td>\n",
       "      <td>209</td>\n",
       "      <td>209</td>\n",
       "      <td>209</td>\n",
       "      <td>209</td>\n",
       "    </tr>\n",
       "    <tr>\n",
       "      <th>unique</th>\n",
       "      <td>178</td>\n",
       "      <td>183</td>\n",
       "      <td>191</td>\n",
       "      <td>182</td>\n",
       "      <td>194</td>\n",
       "      <td>197</td>\n",
       "      <td>196</td>\n",
       "      <td>202</td>\n",
       "      <td>206</td>\n",
       "      <td>208</td>\n",
       "      <td>...</td>\n",
       "      <td>145</td>\n",
       "      <td>135</td>\n",
       "      <td>135</td>\n",
       "      <td>130</td>\n",
       "      <td>123</td>\n",
       "      <td>122</td>\n",
       "      <td>125</td>\n",
       "      <td>120</td>\n",
       "      <td>110</td>\n",
       "      <td>3</td>\n",
       "    </tr>\n",
       "    <tr>\n",
       "      <th>top</th>\n",
       "      <td>0.0201</td>\n",
       "      <td>0.0394</td>\n",
       "      <td>0.0476</td>\n",
       "      <td>0.0108</td>\n",
       "      <td>0.063</td>\n",
       "      <td>0.1267</td>\n",
       "      <td>0.0771</td>\n",
       "      <td>0.0664</td>\n",
       "      <td>0.0598</td>\n",
       "      <td>0.2354</td>\n",
       "      <td>...</td>\n",
       "      <td>0.0091</td>\n",
       "      <td>0.0129</td>\n",
       "      <td>0.0079</td>\n",
       "      <td>0.0075</td>\n",
       "      <td>0.0054</td>\n",
       "      <td>0.0037</td>\n",
       "      <td>0.0036</td>\n",
       "      <td>0.007</td>\n",
       "      <td>0.0053</td>\n",
       "      <td>M</td>\n",
       "    </tr>\n",
       "    <tr>\n",
       "      <th>freq</th>\n",
       "      <td>5</td>\n",
       "      <td>2</td>\n",
       "      <td>2</td>\n",
       "      <td>3</td>\n",
       "      <td>2</td>\n",
       "      <td>2</td>\n",
       "      <td>3</td>\n",
       "      <td>2</td>\n",
       "      <td>2</td>\n",
       "      <td>2</td>\n",
       "      <td>...</td>\n",
       "      <td>5</td>\n",
       "      <td>5</td>\n",
       "      <td>5</td>\n",
       "      <td>5</td>\n",
       "      <td>5</td>\n",
       "      <td>7</td>\n",
       "      <td>6</td>\n",
       "      <td>6</td>\n",
       "      <td>7</td>\n",
       "      <td>111</td>\n",
       "    </tr>\n",
       "  </tbody>\n",
       "</table>\n",
       "<p>4 rows × 61 columns</p>\n",
       "</div>"
      ],
      "text/plain": [
       "            0       1       2       3      4       5       6       7       8   \\\n",
       "count      209     209     209     209    209     209     209     209     209   \n",
       "unique     178     183     191     182    194     197     196     202     206   \n",
       "top     0.0201  0.0394  0.0476  0.0108  0.063  0.1267  0.0771  0.0664  0.0598   \n",
       "freq         5       2       2       3      2       2       3       2       2   \n",
       "\n",
       "            9   ...      51      52      53      54      55      56      57  \\\n",
       "count      209  ...     209     209     209     209     209     209     209   \n",
       "unique     208  ...     145     135     135     130     123     122     125   \n",
       "top     0.2354  ...  0.0091  0.0129  0.0079  0.0075  0.0054  0.0037  0.0036   \n",
       "freq         2  ...       5       5       5       5       5       7       6   \n",
       "\n",
       "           58      59   60  \n",
       "count     209     209  209  \n",
       "unique    120     110    3  \n",
       "top     0.007  0.0053    M  \n",
       "freq        6       7  111  \n",
       "\n",
       "[4 rows x 61 columns]"
      ]
     },
     "execution_count": 3,
     "metadata": {},
     "output_type": "execute_result"
    }
   ],
   "source": [
    "sonar_data.describe()"
   ]
  },
  {
   "cell_type": "code",
   "execution_count": 4,
   "id": "d6d3f44c",
   "metadata": {
    "execution": {
     "iopub.execute_input": "2022-05-30T05:08:09.071975Z",
     "iopub.status.busy": "2022-05-30T05:08:09.071500Z",
     "iopub.status.idle": "2022-05-30T05:08:09.081345Z",
     "shell.execute_reply": "2022-05-30T05:08:09.080234Z"
    },
    "papermill": {
     "duration": 0.020514,
     "end_time": "2022-05-30T05:08:09.083559",
     "exception": false,
     "start_time": "2022-05-30T05:08:09.063045",
     "status": "completed"
    },
    "tags": []
   },
   "outputs": [
    {
     "data": {
      "text/plain": [
       "M        111\n",
       "R         97\n",
       "Label      1\n",
       "Name: 60, dtype: int64"
      ]
     },
     "execution_count": 4,
     "metadata": {},
     "output_type": "execute_result"
    }
   ],
   "source": [
    "sonar_data[60].value_counts()"
   ]
  },
  {
   "cell_type": "code",
   "execution_count": 5,
   "id": "7b8d7a64",
   "metadata": {
    "execution": {
     "iopub.execute_input": "2022-05-30T05:08:09.099457Z",
     "iopub.status.busy": "2022-05-30T05:08:09.099056Z",
     "iopub.status.idle": "2022-05-30T05:08:09.105371Z",
     "shell.execute_reply": "2022-05-30T05:08:09.104404Z"
    },
    "papermill": {
     "duration": 0.017066,
     "end_time": "2022-05-30T05:08:09.107403",
     "exception": false,
     "start_time": "2022-05-30T05:08:09.090337",
     "status": "completed"
    },
    "tags": []
   },
   "outputs": [],
   "source": [
    "\n",
    "X = sonar_data.drop(columns=60, axis=1)\n",
    "Y = sonar_data[60]\n"
   ]
  },
  {
   "cell_type": "code",
   "execution_count": 6,
   "id": "3d280653",
   "metadata": {
    "execution": {
     "iopub.execute_input": "2022-05-30T05:08:09.122678Z",
     "iopub.status.busy": "2022-05-30T05:08:09.122266Z",
     "iopub.status.idle": "2022-05-30T05:08:09.129324Z",
     "shell.execute_reply": "2022-05-30T05:08:09.128328Z"
    },
    "papermill": {
     "duration": 0.017165,
     "end_time": "2022-05-30T05:08:09.131411",
     "exception": false,
     "start_time": "2022-05-30T05:08:09.114246",
     "status": "completed"
    },
    "tags": []
   },
   "outputs": [],
   "source": [
    "X=X.drop([0])\n",
    "Y=Y.drop([0])\n"
   ]
  },
  {
   "cell_type": "markdown",
   "id": "90de6a29",
   "metadata": {
    "papermill": {
     "duration": 0.006547,
     "end_time": "2022-05-30T05:08:09.144800",
     "exception": false,
     "start_time": "2022-05-30T05:08:09.138253",
     "status": "completed"
    },
    "tags": []
   },
   "source": [
    "# Train Test Split"
   ]
  },
  {
   "cell_type": "code",
   "execution_count": 7,
   "id": "5d315625",
   "metadata": {
    "execution": {
     "iopub.execute_input": "2022-05-30T05:08:09.160310Z",
     "iopub.status.busy": "2022-05-30T05:08:09.159488Z",
     "iopub.status.idle": "2022-05-30T05:08:09.166748Z",
     "shell.execute_reply": "2022-05-30T05:08:09.165851Z"
    },
    "papermill": {
     "duration": 0.017498,
     "end_time": "2022-05-30T05:08:09.168922",
     "exception": false,
     "start_time": "2022-05-30T05:08:09.151424",
     "status": "completed"
    },
    "tags": []
   },
   "outputs": [],
   "source": [
    "X_train, X_test, Y_train, Y_test = train_test_split(X, Y, test_size = 0.25,  random_state=1)"
   ]
  },
  {
   "cell_type": "markdown",
   "id": "b25ceb40",
   "metadata": {
    "papermill": {
     "duration": 0.007225,
     "end_time": "2022-05-30T05:08:09.183150",
     "exception": false,
     "start_time": "2022-05-30T05:08:09.175925",
     "status": "completed"
    },
    "tags": []
   },
   "source": [
    "# Training Model "
   ]
  },
  {
   "cell_type": "code",
   "execution_count": 8,
   "id": "bad7f064",
   "metadata": {
    "execution": {
     "iopub.execute_input": "2022-05-30T05:08:09.198839Z",
     "iopub.status.busy": "2022-05-30T05:08:09.198442Z",
     "iopub.status.idle": "2022-05-30T05:08:09.203181Z",
     "shell.execute_reply": "2022-05-30T05:08:09.202164Z"
    },
    "papermill": {
     "duration": 0.01494,
     "end_time": "2022-05-30T05:08:09.205288",
     "exception": false,
     "start_time": "2022-05-30T05:08:09.190348",
     "status": "completed"
    },
    "tags": []
   },
   "outputs": [],
   "source": [
    "model = LogisticRegression()"
   ]
  },
  {
   "cell_type": "code",
   "execution_count": 9,
   "id": "3dfa8a6a",
   "metadata": {
    "execution": {
     "iopub.execute_input": "2022-05-30T05:08:09.220629Z",
     "iopub.status.busy": "2022-05-30T05:08:09.219926Z",
     "iopub.status.idle": "2022-05-30T05:08:09.262558Z",
     "shell.execute_reply": "2022-05-30T05:08:09.261643Z"
    },
    "papermill": {
     "duration": 0.053433,
     "end_time": "2022-05-30T05:08:09.265389",
     "exception": false,
     "start_time": "2022-05-30T05:08:09.211956",
     "status": "completed"
    },
    "tags": []
   },
   "outputs": [
    {
     "data": {
      "text/plain": [
       "LogisticRegression()"
      ]
     },
     "execution_count": 9,
     "metadata": {},
     "output_type": "execute_result"
    }
   ],
   "source": [
    "model.fit(X_train, Y_train)"
   ]
  },
  {
   "cell_type": "markdown",
   "id": "17a9179e",
   "metadata": {
    "papermill": {
     "duration": 0.011983,
     "end_time": "2022-05-30T05:08:09.289647",
     "exception": false,
     "start_time": "2022-05-30T05:08:09.277664",
     "status": "completed"
    },
    "tags": []
   },
   "source": [
    "# Evaluation of Model"
   ]
  },
  {
   "cell_type": "markdown",
   "id": "5f611f41",
   "metadata": {
    "papermill": {
     "duration": 0.01169,
     "end_time": "2022-05-30T05:08:09.313592",
     "exception": false,
     "start_time": "2022-05-30T05:08:09.301902",
     "status": "completed"
    },
    "tags": []
   },
   "source": [
    "## Accuracy on Train Dataset"
   ]
  },
  {
   "cell_type": "code",
   "execution_count": 10,
   "id": "1b235bc9",
   "metadata": {
    "execution": {
     "iopub.execute_input": "2022-05-30T05:08:09.340105Z",
     "iopub.status.busy": "2022-05-30T05:08:09.339447Z",
     "iopub.status.idle": "2022-05-30T05:08:09.356766Z",
     "shell.execute_reply": "2022-05-30T05:08:09.355680Z"
    },
    "papermill": {
     "duration": 0.034435,
     "end_time": "2022-05-30T05:08:09.360211",
     "exception": false,
     "start_time": "2022-05-30T05:08:09.325776",
     "status": "completed"
    },
    "tags": []
   },
   "outputs": [],
   "source": [
    "X_train_prediction = model.predict(X_train)\n",
    "training_data_accuracy = accuracy_score(X_train_prediction, Y_train) "
   ]
  },
  {
   "cell_type": "code",
   "execution_count": 11,
   "id": "db870c28",
   "metadata": {
    "execution": {
     "iopub.execute_input": "2022-05-30T05:08:09.391238Z",
     "iopub.status.busy": "2022-05-30T05:08:09.390590Z",
     "iopub.status.idle": "2022-05-30T05:08:09.403028Z",
     "shell.execute_reply": "2022-05-30T05:08:09.401295Z"
    },
    "papermill": {
     "duration": 0.034083,
     "end_time": "2022-05-30T05:08:09.407204",
     "exception": false,
     "start_time": "2022-05-30T05:08:09.373121",
     "status": "completed"
    },
    "tags": []
   },
   "outputs": [
    {
     "name": "stdout",
     "output_type": "stream",
     "text": [
      "Accuracy on training data :  0.8397435897435898\n"
     ]
    }
   ],
   "source": [
    "print('Accuracy on training data : ', training_data_accuracy)"
   ]
  },
  {
   "cell_type": "markdown",
   "id": "9149f37d",
   "metadata": {
    "papermill": {
     "duration": 0.012126,
     "end_time": "2022-05-30T05:08:09.432008",
     "exception": false,
     "start_time": "2022-05-30T05:08:09.419882",
     "status": "completed"
    },
    "tags": []
   },
   "source": [
    "## Accuracy on Test Dataset"
   ]
  },
  {
   "cell_type": "code",
   "execution_count": 12,
   "id": "213991ff",
   "metadata": {
    "execution": {
     "iopub.execute_input": "2022-05-30T05:08:09.459892Z",
     "iopub.status.busy": "2022-05-30T05:08:09.459295Z",
     "iopub.status.idle": "2022-05-30T05:08:09.475398Z",
     "shell.execute_reply": "2022-05-30T05:08:09.474293Z"
    },
    "papermill": {
     "duration": 0.033842,
     "end_time": "2022-05-30T05:08:09.478507",
     "exception": false,
     "start_time": "2022-05-30T05:08:09.444665",
     "status": "completed"
    },
    "tags": []
   },
   "outputs": [],
   "source": [
    "X_test_prediction = model.predict(X_test)\n",
    "test_data_accuracy = accuracy_score(X_test_prediction, Y_test)"
   ]
  },
  {
   "cell_type": "code",
   "execution_count": 13,
   "id": "0ec07e7f",
   "metadata": {
    "execution": {
     "iopub.execute_input": "2022-05-30T05:08:09.494684Z",
     "iopub.status.busy": "2022-05-30T05:08:09.493705Z",
     "iopub.status.idle": "2022-05-30T05:08:09.500118Z",
     "shell.execute_reply": "2022-05-30T05:08:09.498551Z"
    },
    "papermill": {
     "duration": 0.017325,
     "end_time": "2022-05-30T05:08:09.502779",
     "exception": false,
     "start_time": "2022-05-30T05:08:09.485454",
     "status": "completed"
    },
    "tags": []
   },
   "outputs": [
    {
     "name": "stdout",
     "output_type": "stream",
     "text": [
      "Accuracy on test data :  0.8076923076923077\n"
     ]
    }
   ],
   "source": [
    "print('Accuracy on test data : ', test_data_accuracy)"
   ]
  },
  {
   "cell_type": "markdown",
   "id": "34bf92ca",
   "metadata": {
    "papermill": {
     "duration": 0.006839,
     "end_time": "2022-05-30T05:08:09.516859",
     "exception": false,
     "start_time": "2022-05-30T05:08:09.510020",
     "status": "completed"
    },
    "tags": []
   },
   "source": [
    "# Predicting for Random Value"
   ]
  },
  {
   "cell_type": "code",
   "execution_count": 14,
   "id": "d796dfa6",
   "metadata": {
    "execution": {
     "iopub.execute_input": "2022-05-30T05:08:09.532141Z",
     "iopub.status.busy": "2022-05-30T05:08:09.531746Z",
     "iopub.status.idle": "2022-05-30T05:08:09.542332Z",
     "shell.execute_reply": "2022-05-30T05:08:09.541220Z"
    },
    "papermill": {
     "duration": 0.020696,
     "end_time": "2022-05-30T05:08:09.544414",
     "exception": false,
     "start_time": "2022-05-30T05:08:09.523718",
     "status": "completed"
    },
    "tags": []
   },
   "outputs": [
    {
     "name": "stdout",
     "output_type": "stream",
     "text": [
      "['M']\n",
      "The object is a mine\n"
     ]
    }
   ],
   "source": [
    "input_data = (0.0307,0.0523,0.0653,0.0521,0.0611,0.0577,0.0665,0.0664,0.1460,0.2792,0.3877,0.4992,0.4981,0.4972,0.5607,0.7339,0.8230,0.9173,0.9975,0.9911,0.8240,0.6498,0.5980,0.4862,0.3150,0.1543,0.0989,0.0284,0.1008,0.2636,0.2694,0.2930,0.2925,0.3998,0.3660,0.3172,0.4609,0.4374,0.1820,0.3376,0.6202,0.4448,0.1863,0.1420,0.0589,0.0576,0.0672,0.0269,0.0245,0.0190,0.0063,0.0321,0.0189,0.0137,0.0277,0.0152,0.0052,0.0121,0.0124,0.0055)\n",
    "\n",
    "# changing the input_data to a numpy array\n",
    "input_data_as_numpy_array = np.asarray(input_data)\n",
    "\n",
    "# reshape the np array as we are predicting for one instance\n",
    "input_data_reshaped = input_data_as_numpy_array.reshape(1,-1)\n",
    "\n",
    "prediction = model.predict(input_data_reshaped)\n",
    "print(prediction)\n",
    "\n",
    "if (prediction[0]=='R'):\n",
    "  print('The object is a Rock')\n",
    "else:\n",
    "  print('The object is a mine')"
   ]
  },
  {
   "cell_type": "code",
   "execution_count": null,
   "id": "258cb55b",
   "metadata": {
    "papermill": {
     "duration": 0.006651,
     "end_time": "2022-05-30T05:08:09.557940",
     "exception": false,
     "start_time": "2022-05-30T05:08:09.551289",
     "status": "completed"
    },
    "tags": []
   },
   "outputs": [],
   "source": []
  }
 ],
 "metadata": {
  "kernelspec": {
   "display_name": "Python 3",
   "language": "python",
   "name": "python3"
  },
  "language_info": {
   "codemirror_mode": {
    "name": "ipython",
    "version": 3
   },
   "file_extension": ".py",
   "mimetype": "text/x-python",
   "name": "python",
   "nbconvert_exporter": "python",
   "pygments_lexer": "ipython3",
   "version": "3.7.12"
  },
  "papermill": {
   "default_parameters": {},
   "duration": 12.765469,
   "end_time": "2022-05-30T05:08:10.286449",
   "environment_variables": {},
   "exception": null,
   "input_path": "__notebook__.ipynb",
   "output_path": "__notebook__.ipynb",
   "parameters": {},
   "start_time": "2022-05-30T05:07:57.520980",
   "version": "2.3.4"
  }
 },
 "nbformat": 4,
 "nbformat_minor": 5
}
